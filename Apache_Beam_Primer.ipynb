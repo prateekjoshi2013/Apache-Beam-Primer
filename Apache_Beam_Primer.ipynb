{
  "nbformat": 4,
  "nbformat_minor": 0,
  "metadata": {
    "colab": {
      "provenance": [],
      "collapsed_sections": [
        "AXmEjT6cMAv9",
        "7oJvDnnhWYcN",
        "qRCJwJ_NgC3f",
        "zlJtp5t2mtN8",
        "IBhhRCU4MMT_",
        "GZ5Nytebv9s8",
        "AcrS5GC_6EUh"
      ],
      "toc_visible": true,
      "authorship_tag": "ABX9TyPcU09VKBQKudcWGDNvATWV",
      "include_colab_link": true
    },
    "kernelspec": {
      "name": "python3",
      "display_name": "Python 3"
    },
    "language_info": {
      "name": "python"
    }
  },
  "cells": [
    {
      "cell_type": "markdown",
      "metadata": {
        "id": "view-in-github",
        "colab_type": "text"
      },
      "source": [
        "<a href=\"https://colab.research.google.com/github/prateekjoshi2013/apache-beam-python-primer/blob/main/Apache_Beam_Primer.ipynb\" target=\"_parent\"><img src=\"https://colab.research.google.com/assets/colab-badge.svg\" alt=\"Open In Colab\"/></a>"
      ]
    },
    {
      "cell_type": "markdown",
      "source": [
        "\n",
        "## Installation Apache Beam"
      ],
      "metadata": {
        "id": "jDyHdSuSL5QR"
      }
    },
    {
      "cell_type": "code",
      "execution_count": 6,
      "metadata": {
        "id": "pORBAg9wG73g"
      },
      "outputs": [],
      "source": [
        "!{'pip install --quiet apache_beam'}"
      ]
    },
    {
      "cell_type": "markdown",
      "source": [
        "## Creating Folders and Uploading Files"
      ],
      "metadata": {
        "id": "AXmEjT6cMAv9"
      }
    },
    {
      "cell_type": "code",
      "source": [
        "!{'mkdir -p data'}"
      ],
      "metadata": {
        "id": "AavyUjVnH5GQ"
      },
      "execution_count": null,
      "outputs": []
    },
    {
      "cell_type": "code",
      "source": [
        "!ls"
      ],
      "metadata": {
        "colab": {
          "base_uri": "https://localhost:8080/"
        },
        "id": "SUfDVJS2ICPG",
        "outputId": "318c12a9-d1a8-4728-fae9-2a188d2fb3f9"
      },
      "execution_count": null,
      "outputs": [
        {
          "output_type": "stream",
          "name": "stdout",
          "text": [
            "data  sample_data\n"
          ]
        }
      ]
    },
    {
      "cell_type": "code",
      "source": [
        "from google.colab import files\n",
        "uploaded=files.upload()"
      ],
      "metadata": {
        "colab": {
          "base_uri": "https://localhost:8080/",
          "height": 74
        },
        "id": "9B3xI5AnIGqr",
        "outputId": "9bc0456d-19ec-4916-d5dc-81f4189d1083"
      },
      "execution_count": null,
      "outputs": [
        {
          "output_type": "display_data",
          "data": {
            "text/plain": [
              "<IPython.core.display.HTML object>"
            ],
            "text/html": [
              "\n",
              "     <input type=\"file\" id=\"files-15dbd0c6-a790-4e45-bde6-e75503ccf1c4\" name=\"files[]\" multiple disabled\n",
              "        style=\"border:none\" />\n",
              "     <output id=\"result-15dbd0c6-a790-4e45-bde6-e75503ccf1c4\">\n",
              "      Upload widget is only available when the cell has been executed in the\n",
              "      current browser session. Please rerun this cell to enable.\n",
              "      </output>\n",
              "      <script>// Copyright 2017 Google LLC\n",
              "//\n",
              "// Licensed under the Apache License, Version 2.0 (the \"License\");\n",
              "// you may not use this file except in compliance with the License.\n",
              "// You may obtain a copy of the License at\n",
              "//\n",
              "//      http://www.apache.org/licenses/LICENSE-2.0\n",
              "//\n",
              "// Unless required by applicable law or agreed to in writing, software\n",
              "// distributed under the License is distributed on an \"AS IS\" BASIS,\n",
              "// WITHOUT WARRANTIES OR CONDITIONS OF ANY KIND, either express or implied.\n",
              "// See the License for the specific language governing permissions and\n",
              "// limitations under the License.\n",
              "\n",
              "/**\n",
              " * @fileoverview Helpers for google.colab Python module.\n",
              " */\n",
              "(function(scope) {\n",
              "function span(text, styleAttributes = {}) {\n",
              "  const element = document.createElement('span');\n",
              "  element.textContent = text;\n",
              "  for (const key of Object.keys(styleAttributes)) {\n",
              "    element.style[key] = styleAttributes[key];\n",
              "  }\n",
              "  return element;\n",
              "}\n",
              "\n",
              "// Max number of bytes which will be uploaded at a time.\n",
              "const MAX_PAYLOAD_SIZE = 100 * 1024;\n",
              "\n",
              "function _uploadFiles(inputId, outputId) {\n",
              "  const steps = uploadFilesStep(inputId, outputId);\n",
              "  const outputElement = document.getElementById(outputId);\n",
              "  // Cache steps on the outputElement to make it available for the next call\n",
              "  // to uploadFilesContinue from Python.\n",
              "  outputElement.steps = steps;\n",
              "\n",
              "  return _uploadFilesContinue(outputId);\n",
              "}\n",
              "\n",
              "// This is roughly an async generator (not supported in the browser yet),\n",
              "// where there are multiple asynchronous steps and the Python side is going\n",
              "// to poll for completion of each step.\n",
              "// This uses a Promise to block the python side on completion of each step,\n",
              "// then passes the result of the previous step as the input to the next step.\n",
              "function _uploadFilesContinue(outputId) {\n",
              "  const outputElement = document.getElementById(outputId);\n",
              "  const steps = outputElement.steps;\n",
              "\n",
              "  const next = steps.next(outputElement.lastPromiseValue);\n",
              "  return Promise.resolve(next.value.promise).then((value) => {\n",
              "    // Cache the last promise value to make it available to the next\n",
              "    // step of the generator.\n",
              "    outputElement.lastPromiseValue = value;\n",
              "    return next.value.response;\n",
              "  });\n",
              "}\n",
              "\n",
              "/**\n",
              " * Generator function which is called between each async step of the upload\n",
              " * process.\n",
              " * @param {string} inputId Element ID of the input file picker element.\n",
              " * @param {string} outputId Element ID of the output display.\n",
              " * @return {!Iterable<!Object>} Iterable of next steps.\n",
              " */\n",
              "function* uploadFilesStep(inputId, outputId) {\n",
              "  const inputElement = document.getElementById(inputId);\n",
              "  inputElement.disabled = false;\n",
              "\n",
              "  const outputElement = document.getElementById(outputId);\n",
              "  outputElement.innerHTML = '';\n",
              "\n",
              "  const pickedPromise = new Promise((resolve) => {\n",
              "    inputElement.addEventListener('change', (e) => {\n",
              "      resolve(e.target.files);\n",
              "    });\n",
              "  });\n",
              "\n",
              "  const cancel = document.createElement('button');\n",
              "  inputElement.parentElement.appendChild(cancel);\n",
              "  cancel.textContent = 'Cancel upload';\n",
              "  const cancelPromise = new Promise((resolve) => {\n",
              "    cancel.onclick = () => {\n",
              "      resolve(null);\n",
              "    };\n",
              "  });\n",
              "\n",
              "  // Wait for the user to pick the files.\n",
              "  const files = yield {\n",
              "    promise: Promise.race([pickedPromise, cancelPromise]),\n",
              "    response: {\n",
              "      action: 'starting',\n",
              "    }\n",
              "  };\n",
              "\n",
              "  cancel.remove();\n",
              "\n",
              "  // Disable the input element since further picks are not allowed.\n",
              "  inputElement.disabled = true;\n",
              "\n",
              "  if (!files) {\n",
              "    return {\n",
              "      response: {\n",
              "        action: 'complete',\n",
              "      }\n",
              "    };\n",
              "  }\n",
              "\n",
              "  for (const file of files) {\n",
              "    const li = document.createElement('li');\n",
              "    li.append(span(file.name, {fontWeight: 'bold'}));\n",
              "    li.append(span(\n",
              "        `(${file.type || 'n/a'}) - ${file.size} bytes, ` +\n",
              "        `last modified: ${\n",
              "            file.lastModifiedDate ? file.lastModifiedDate.toLocaleDateString() :\n",
              "                                    'n/a'} - `));\n",
              "    const percent = span('0% done');\n",
              "    li.appendChild(percent);\n",
              "\n",
              "    outputElement.appendChild(li);\n",
              "\n",
              "    const fileDataPromise = new Promise((resolve) => {\n",
              "      const reader = new FileReader();\n",
              "      reader.onload = (e) => {\n",
              "        resolve(e.target.result);\n",
              "      };\n",
              "      reader.readAsArrayBuffer(file);\n",
              "    });\n",
              "    // Wait for the data to be ready.\n",
              "    let fileData = yield {\n",
              "      promise: fileDataPromise,\n",
              "      response: {\n",
              "        action: 'continue',\n",
              "      }\n",
              "    };\n",
              "\n",
              "    // Use a chunked sending to avoid message size limits. See b/62115660.\n",
              "    let position = 0;\n",
              "    do {\n",
              "      const length = Math.min(fileData.byteLength - position, MAX_PAYLOAD_SIZE);\n",
              "      const chunk = new Uint8Array(fileData, position, length);\n",
              "      position += length;\n",
              "\n",
              "      const base64 = btoa(String.fromCharCode.apply(null, chunk));\n",
              "      yield {\n",
              "        response: {\n",
              "          action: 'append',\n",
              "          file: file.name,\n",
              "          data: base64,\n",
              "        },\n",
              "      };\n",
              "\n",
              "      let percentDone = fileData.byteLength === 0 ?\n",
              "          100 :\n",
              "          Math.round((position / fileData.byteLength) * 100);\n",
              "      percent.textContent = `${percentDone}% done`;\n",
              "\n",
              "    } while (position < fileData.byteLength);\n",
              "  }\n",
              "\n",
              "  // All done.\n",
              "  yield {\n",
              "    response: {\n",
              "      action: 'complete',\n",
              "    }\n",
              "  };\n",
              "}\n",
              "\n",
              "scope.google = scope.google || {};\n",
              "scope.google.colab = scope.google.colab || {};\n",
              "scope.google.colab._files = {\n",
              "  _uploadFiles,\n",
              "  _uploadFilesContinue,\n",
              "};\n",
              "})(self);\n",
              "</script> "
            ]
          },
          "metadata": {}
        },
        {
          "output_type": "stream",
          "name": "stdout",
          "text": [
            "Saving dept_data.txt to dept_data.txt\n"
          ]
        }
      ]
    },
    {
      "cell_type": "code",
      "source": [
        "!ls"
      ],
      "metadata": {
        "colab": {
          "base_uri": "https://localhost:8080/"
        },
        "id": "REqhsuU2IQxU",
        "outputId": "a7e85aab-2808-43b7-ad73-95c2d90b7dad"
      },
      "execution_count": null,
      "outputs": [
        {
          "output_type": "stream",
          "name": "stdout",
          "text": [
            "data  dept_data.txt  sample_data\n"
          ]
        }
      ]
    },
    {
      "cell_type": "markdown",
      "source": [
        "## Read Transforms: Reading Data"
      ],
      "metadata": {
        "id": "7oJvDnnhWYcN"
      }
    },
    {
      "cell_type": "markdown",
      "source": [
        " ### Read From Text\n",
        "\n",
        "  - **ReadFromText(...)** : Parses a text file as newline delimited elements i.e it reads the file line by line every line is a single elelment in pCollection\n",
        "\n",
        " #### Parameters\n",
        "\n",
        "  - **file_pattern(str)**: **mandatory** param specifies the input filepath/s can contain globs for ex. **my_input\\*** will read all the files prefixed with my_input\n",
        "  - **min_bundle_size(int)**: minimum size bundles splitting source into chunks for parallel processing\n",
        "  - **compression_type(str)**: we can specify compression type here if input files are compressed\n",
        "  - **strip_trailing_newlines(boolean)**: whether source should remove the new line char (/n) from each line before reading it, By default true.\n",
        "  - **validate(boolean)**: verify the presence of file during pipeline creation. By default true\n",
        "  - **skip_header_lines(int)**: specifies the number of header lines to be skipped, By default 0\n",
        "\n",
        "\n"
      ],
      "metadata": {
        "id": "x3dYnyneTC-o"
      }
    },
    {
      "cell_type": "markdown",
      "source": [
        " ### Read From Avro\n",
        "\n",
        "  - **ReadFromAvro(...)** : Parses a avro files\n",
        "\n",
        " #### Parameters\n",
        "\n",
        "  - **file_pattern(str)**: **mandatory** param specifies the input filepath/s can contain globs for ex. **my_input\\*** will read all the files prefixed with my_input\n",
        "  - **min_bundle_size(int)**: minimum size bundles splitting source into chunks for parallel processing\n",
        "  - **validate(boolean)**: verify the presence of file during pipeline creation. By default true\n",
        "  - **use_fastavro(boolean)**:  when set to true, uses the 'fastavro' library to read avro files\n"
      ],
      "metadata": {
        "id": "hD-RobepXHPC"
      }
    },
    {
      "cell_type": "markdown",
      "source": [
        " ### Read From Parquet\n",
        "\n",
        "  - **ReadFromParquet(...)** : Parses parquet files\n",
        "\n",
        " #### Parameters\n",
        "\n",
        "  - **file_pattern(str)**: **mandatory** param specifies the input filepath/s can contain globs for ex. **my_input\\*** will read all the files prefixed with my_input\n",
        "  - **min_bundle_size(int)**: minimum size bundles splitting source into chunks for parallel processing\n",
        "  - **validate(boolean)**: verify the presence of file during pipeline creation. By default true\n",
        "  - **columns(list[str])**: Specifies the list of columns that will be read from the input files\n",
        "\n"
      ],
      "metadata": {
        "id": "bv_HzEWmXrag"
      }
    },
    {
      "cell_type": "markdown",
      "source": [
        " ### Read From Tensor Flow records\n",
        "\n",
        "  - **ReadFromTFRecord(...)** : Parses tensor flow records which are in binary format\n",
        "\n",
        " #### Parameters\n",
        "\n",
        "  - **file_pattern(str)**: **mandatory** param specifies the input filepath/s can contain globs for ex. **my_input\\*** will read all the files prefixed with my_input\n",
        "  - **validate(boolean)**: verify the presence of file during pipeline creation. By default true\n",
        "  - **compression_type(str)**: we can specify compression type here if input files are compressed\n",
        "  - **coder(str)**: Specifies the coder name to decode the input record .By default 'bytesCoder'."
      ],
      "metadata": {
        "id": "egsw46dIYSPR"
      }
    },
    {
      "cell_type": "markdown",
      "source": [
        " ### Read From Pub Sub GCP\n",
        "\n",
        "  - **ReadFromPubSub(...)** : Used to read messages from Google PubSub service\n",
        "\n",
        " #### Parameters\n",
        "\n",
        "  - **topic(str)**: param specifies the topic name where the messages are getting published and beam has to read it\n",
        "  - **subscription(str)**: Specifies the subscription from where beam has to read the messages.  **either topic or subscription should be provided and not both**\n",
        "\n",
        "  - **id_label(str)**: Provide the attribute from incoming messages which should be considered as unique identifier\n",
        "  - **with_attributes(boolean)**: if set to true then output elements will be of type objects otherwise of type bytes, False by default\n",
        "  - **timestamp_attributes(int)**: Specifies the value to be used as element timestamp.Specified argument should be of milliseconds since unix epoch."
      ],
      "metadata": {
        "id": "vI0kr5ebcGwB"
      }
    },
    {
      "cell_type": "markdown",
      "source": [
        "### Other Read Transforms :\n",
        "\n",
        "#### Available\n",
        "\n",
        "- Other readers like kinesis, redis might be dependent on jre\n",
        "\n",
        "- like : kinesis, jdbc, redis etc\n",
        "\n"
      ],
      "metadata": {
        "id": "kKhSv4Y6d_ix"
      }
    },
    {
      "cell_type": "markdown",
      "source": [
        "## Create Transform : Generating Data"
      ],
      "metadata": {
        "id": "qRCJwJ_NgC3f"
      }
    },
    {
      "cell_type": "code",
      "source": [
        "import apache_beam as beam\n",
        "\n",
        "pipeline=beam.Pipeline()\n",
        "lines=(\n",
        "    pipeline\n",
        "    | beam.Create([\n",
        "        'Using create transform',\n",
        "        'to generate in memory data',\n",
        "        'This is a third line',\n",
        "        'Thanks',\n",
        "    ])\n",
        "    | beam.io.WriteToText('data/output')\n",
        ")\n",
        "pipeline.run()\n",
        "\n",
        "# visualize input\n",
        "!{('head -n 20 data/output*')}\n"
      ],
      "metadata": {
        "colab": {
          "base_uri": "https://localhost:8080/"
        },
        "id": "RonMpg3PjfWp",
        "outputId": "a239023a-2c63-4451-cca7-6042f7108292"
      },
      "execution_count": null,
      "outputs": [
        {
          "output_type": "stream",
          "name": "stderr",
          "text": [
            "WARNING:apache_beam.io.filebasedsink:Deleting 1 existing files in target path matching: -*-of-%(num_shards)05d\n"
          ]
        },
        {
          "output_type": "stream",
          "name": "stdout",
          "text": [
            "Using create transform\n",
            "to generate in memory data\n",
            "This is a third line\n",
            "Thanks\n"
          ]
        }
      ]
    },
    {
      "cell_type": "code",
      "source": [
        "import apache_beam as beam\n",
        "\n",
        "pipeline=beam.Pipeline()\n",
        "lines=(\n",
        "    pipeline\n",
        "    | beam.Create([\n",
        "        (\"maths\",52),\n",
        "        (\"english\",52),\n",
        "        (\"science\",52),\n",
        "        (\"computer\",52),\n",
        "        (\"maths\",52),\n",
        "    ])\n",
        "    | beam.io.WriteToText('data/output')\n",
        ")\n",
        "pipeline.run()\n",
        "\n",
        "# visualize input\n",
        "!{('head -n 20 data/output*')}"
      ],
      "metadata": {
        "colab": {
          "base_uri": "https://localhost:8080/"
        },
        "id": "CBYbn0fXjiXu",
        "outputId": "4c9be128-064f-48ca-b31a-abe93ba96f3a"
      },
      "execution_count": null,
      "outputs": [
        {
          "output_type": "stream",
          "name": "stderr",
          "text": [
            "WARNING:apache_beam.io.filebasedsink:Deleting 1 existing files in target path matching: -*-of-%(num_shards)05d\n"
          ]
        },
        {
          "output_type": "stream",
          "name": "stdout",
          "text": [
            "('maths', 52)\n",
            "('english', 52)\n",
            "('science', 52)\n",
            "('computer', 52)\n",
            "('maths', 52)\n"
          ]
        }
      ]
    },
    {
      "cell_type": "code",
      "source": [
        "import apache_beam as beam\n",
        "\n",
        "pipeline=beam.Pipeline()\n",
        "lines=(\n",
        "    pipeline\n",
        "    | beam.Create({\n",
        "        'row1':[1,2,3,4,5],\n",
        "        'row2':[1,2,3,4,5],\n",
        "        'row3':[1,2,3,4,5],\n",
        "    })\n",
        "    | beam.io.WriteToText('data/output')\n",
        ")\n",
        "pipeline.run()\n",
        "\n",
        "# visualize input\n",
        "!{('head -n 20 data/output*')}"
      ],
      "metadata": {
        "colab": {
          "base_uri": "https://localhost:8080/"
        },
        "id": "vdxiu73olZwU",
        "outputId": "5145d886-0f10-4659-a8a6-eb2c8cb16546"
      },
      "execution_count": null,
      "outputs": [
        {
          "output_type": "stream",
          "name": "stderr",
          "text": [
            "WARNING:apache_beam.io.filebasedsink:Deleting 1 existing files in target path matching: -*-of-%(num_shards)05d\n"
          ]
        },
        {
          "output_type": "stream",
          "name": "stdout",
          "text": [
            "('row1', [1, 2, 3, 4, 5])\n",
            "('row2', [1, 2, 3, 4, 5])\n",
            "('row3', [1, 2, 3, 4, 5])\n"
          ]
        }
      ]
    },
    {
      "cell_type": "markdown",
      "source": [
        "# Write Transforms : Writng Files"
      ],
      "metadata": {
        "id": "zlJtp5t2mtN8"
      }
    },
    {
      "cell_type": "markdown",
      "source": [
        "## Write To Text\n",
        "\n",
        "- **WriteToText(...)** : Writes each element of the PCollection as a single line in the output file\n",
        "\n",
        "### Parameters\n",
        "\n",
        "- **file_path_prefix(str)** : this is mandatory param specifies the file path to write the pCollection to.The files will be written with specified prefix\n",
        "- **file_name_suffix(str)** : specifies the suffix of the output file name\n",
        "- **num_shards(int)** : specifies no. of shards of files written as output.If not specified the framework decides an optimal number.Should not be specified until you explicitly want a particular number of output files\n",
        "- **append_trailing_newlines(boolean)** : if the lines should be delimmited with newline,By default true\n",
        "- **coder(str)** : Specifies the coder name to encode each line\n",
        "- **header(str)** : Specifies the header line of output\n",
        "\n",
        "\n"
      ],
      "metadata": {
        "id": "WIAsHvLPm8E9"
      }
    },
    {
      "cell_type": "markdown",
      "source": [
        "## Write To Avro\n",
        "\n",
        "- **WriteToAvro(...)**: Writes each element of the pCollection to Avro Files\n",
        "\n",
        "### Parameters\n",
        "\n",
        "- **file_path_prefix(str)** : this is mandatory param specifies the file path to write the pCollection to.The files will be written with specified prefix\n",
        "- **file_name_suffix(str)** : specifies the suffix of the output file name\n",
        "- **num_shards(int)** : specifies no. of shards of files written as output.If not specified the framework decides an optimal number.Should not be specified until you explicitly want a particular number of output files\n",
        "- **schema** : the schema to use for writing as returned by avro.schema.Parse\n",
        "- **codec** : the codec used for block level compression type of the Output file.\n",
        "- **compression_type(str)** : Specifies the compression type of the output file\n",
        "- **use_fastavro(boolean)** : when set to true, uses the 'fastavro' library to write the Avro file.\n",
        "- **mime_type** : MIME type to use for the produced output files.\n",
        "\n",
        "\n"
      ],
      "metadata": {
        "id": "bDUcoswJorRo"
      }
    },
    {
      "cell_type": "markdown",
      "source": [
        "## Write To Parquet\n",
        "\n",
        "- **WriteToParquet(...)**: Writes each element of the pCollection to Parquet Files\n",
        "\n",
        "\n",
        "### Parameters\n",
        "\n",
        "- **file_path_prefix(str)** : this is mandatory param specifies the file path to write the pCollection to.The files will be written with specified prefix\n",
        "- **file_name_suffix(str)** : specifies the suffix of the output file name\n",
        "- **num_shards(int)** : specifies no. of shards of files written as output.If not specified the framework decides an optimal number.Should not be specified until you explicitly want a particular number of output files\n",
        "- **schema** : the schema to use for writing as returned by avro.schema.Parse\n",
        "- **codec** : the codec used for block level compression type of the Output file.\n",
        "- **mime_type** : MIME type to use for the produced output files.\n",
        "- **row_group_buffer_size** : Specifies the byte size of the row group buffer. Default '67108864'\n",
        "- **record_batch_size** : Specifies the number of records in each record batch. Default '1000'"
      ],
      "metadata": {
        "id": "FGxzmfYUqZac"
      }
    },
    {
      "cell_type": "markdown",
      "source": [
        "## Write To PubSub\n",
        "\n",
        "- **WriteToPubSub(...)** : Writes each element of the PCollection to the Google cloud PubSub service\n",
        "\n",
        "### Parameters\n",
        "\n",
        "- **topic(str)** : Topic name to which the message is published to.\n",
        "- **with_attributes(boolean)** : If set to true then input elements will be of type 'Objects' , otherwise of type 'Bytes'. By default False\n",
        "- **id_label** : If set will set an attribute for each Cloud Pub/Sub message with the given name and a unique value.\n",
        "- **timestamp_attribute(int)** : if set will set an attribute for each Cloud Pub/Sub message with the given name and the message's publish time as the value"
      ],
      "metadata": {
        "id": "GCKv83MernsW"
      }
    },
    {
      "cell_type": "markdown",
      "source": [
        "# Typical Apache Beam Code"
      ],
      "metadata": {
        "id": "IBhhRCU4MMT_"
      }
    },
    {
      "cell_type": "code",
      "source": [
        "import apache_beam as beam\n",
        "\n",
        " # Creating and giving pipeline a name\n",
        "pipeline=beam.Pipeline()\n",
        "\n",
        "attendance_count=(\n",
        "    # Each PTransform produces new PCollection\n",
        "    pipeline\n",
        "    # reader\n",
        "    | beam.io.ReadFromText('dept_data.txt')\n",
        "    # PTransform Map ([\"id,name,salary,dept,date\"])->(id,name,salary,dept,date)\n",
        "    | beam.Map(lambda record : record.split(','))\n",
        "    # PTransform Filter ([id,name,salary,dept,date]) where dept=='Accounts'\n",
        "    | beam.Filter(lambda record: record[3]=='Accounts')\n",
        "    # PTransform Map ([id,name,salary,dept,date])->(ID,1)\n",
        "    | beam.Map(lambda record: (record[1],1))\n",
        "    # PTransform Group By ID\n",
        "    | beam.CombinePerKey(sum)\n",
        "    # PTransform Map (id,count_total) -> (\"id,total_count\")\n",
        "    | beam.Map(lambda employee_count: str(employee_count))\n",
        "    # writer\n",
        "    | beam.io.WriteToText('data/output')\n",
        ")\n",
        "\n",
        "pipeline.run()\n",
        "\n",
        "# visualize input\n",
        "!{('head -n 20 data/output*')}"
      ],
      "metadata": {
        "colab": {
          "base_uri": "https://localhost:8080/"
        },
        "id": "nk8BNbHVMpdZ",
        "outputId": "92b0c5c5-8686-4c11-cd86-e6488a91cfe0"
      },
      "execution_count": null,
      "outputs": [
        {
          "output_type": "stream",
          "name": "stderr",
          "text": [
            "WARNING:apache_beam.io.filebasedsink:Deleting 1 existing files in target path matching: -*-of-%(num_shards)05d\n"
          ]
        },
        {
          "output_type": "stream",
          "name": "stdout",
          "text": [
            "('Marco', 31)\n",
            "('Rebekah', 31)\n",
            "('Itoe', 31)\n",
            "('Edouard', 31)\n",
            "('Kyle', 62)\n",
            "('Kumiko', 31)\n",
            "('Gaston', 31)\n",
            "('Ayumi', 30)\n"
          ]
        }
      ]
    },
    {
      "cell_type": "markdown",
      "source": [
        "# Better Pipeline Code with Context and Annotation"
      ],
      "metadata": {
        "id": "GZ5Nytebv9s8"
      }
    },
    {
      "cell_type": "code",
      "source": [
        "import apache_beam as beam\n",
        "\n",
        "\n",
        "\n",
        " # Creating Pipeline with context\n",
        "\n",
        "with beam.Pipeline() as pipeline:\n",
        "  attendance_count=(\n",
        "      # Each PTransform produces new PCollection\n",
        "      pipeline\n",
        "      | \"Reader\" >> beam.io.ReadFromText('dept_data.txt')\n",
        "      | \"Split into records\" >> beam.Map(lambda record : record.split(','))\n",
        "      | \"Filter by Department\" >> beam.Filter(lambda record: record[3]=='Accounts')\n",
        "      | \"Create Record With ID and identity\" >> beam.Map(lambda record: (record[1],1))\n",
        "      | \"Group By Id and Sum Identity Records\" >> beam.CombinePerKey(sum)\n",
        "      | \"Record to String\" >> beam.Map(lambda employee_count: str(employee_count))\n",
        "      | \"Write to File\" >> beam.io.WriteToText('data/output')\n",
        "  )\n",
        "\n",
        "# visualize input\n",
        "!{('head -n 20 data/output*')}"
      ],
      "metadata": {
        "colab": {
          "base_uri": "https://localhost:8080/"
        },
        "id": "RH984Lh6wHnK",
        "outputId": "d1e54043-ce2e-4935-eaed-69ad73f4ec4f"
      },
      "execution_count": null,
      "outputs": [
        {
          "output_type": "stream",
          "name": "stderr",
          "text": [
            "WARNING:apache_beam.io.filebasedsink:Deleting 1 existing files in target path matching: -*-of-%(num_shards)05d\n"
          ]
        },
        {
          "output_type": "stream",
          "name": "stdout",
          "text": [
            "('Marco', 31)\n",
            "('Rebekah', 31)\n",
            "('Itoe', 31)\n",
            "('Edouard', 31)\n",
            "('Kyle', 62)\n",
            "('Kumiko', 31)\n",
            "('Gaston', 31)\n",
            "('Ayumi', 30)\n"
          ]
        }
      ]
    },
    {
      "cell_type": "markdown",
      "source": [
        "# Branching And Merging Pipelines\n",
        "\n",
        "- We can split pipeline by using intermdeiate pCollection\n",
        "- We can merge pCollection by using **flatten**"
      ],
      "metadata": {
        "id": "gqkUSqWhz3bO"
      }
    },
    {
      "cell_type": "code",
      "source": [
        "import apache_beam as beam\n",
        "\n",
        "\n",
        "\n",
        " # Creating Pipeline with context\n",
        "\n",
        "with beam.Pipeline() as pipeline:\n",
        "\n",
        "  records = (pipeline\n",
        "      | \"Reader\" >> beam.io.ReadFromText('dept_data.txt')\n",
        "      | \"Split into records\" >> beam.Map(lambda record : record.split(',')))\n",
        "\n",
        "  accounts_count=(\n",
        "      # Each PTransform produces new PCollection\n",
        "      records\n",
        "      | \"Filter by Accounts Department\" >> beam.Filter(lambda record: record[3]=='Accounts')\n",
        "      | \"Create Record With Accounts ID and identity\" >> beam.Map(lambda record: (record[1],1))\n",
        "      | \"Group By Id and Sum Identity Records For Accounts\" >> beam.CombinePerKey(sum)\n",
        "      | \"Tag With Accounts department\" >> beam.Map(lambda record: (*record,'Accounts'))\n",
        "      | \"Accounts Record to String\" >> beam.Map(lambda employee_count: str(employee_count))\n",
        "  )\n",
        "  hr_count=(\n",
        "      # Each PTransform produces new PCollection\n",
        "      records\n",
        "      | \"Filter by HR Department\" >> beam.Filter(lambda record: record[3]=='HR')\n",
        "      | \"Create Record With HR ID and identity\" >> beam.Map(lambda record: (record[1],1))\n",
        "      | \"Group By Id and Sum Identity Records For HR\" >> beam.CombinePerKey(sum)\n",
        "      | \"Tag With HR department\" >> beam.Map(lambda record: (*record,'HR'))\n",
        "      | \"HR Record to String\" >> beam.Map(lambda employee_count: str(employee_count))\n",
        "  )\n",
        "  output=(\n",
        "      (accounts_count,hr_count)\n",
        "      | beam.Flatten()\n",
        "      | \"Write to File\" >> beam.io.WriteToText('data/output')\n",
        "  )\n",
        "\n",
        "\n",
        "# visualize input\n",
        "!{('head -n 20 data/output*')}"
      ],
      "metadata": {
        "colab": {
          "base_uri": "https://localhost:8080/"
        },
        "id": "FVGXHCYG0Yzx",
        "outputId": "39ab57eb-5e7b-4066-a136-d87ec2a049ca"
      },
      "execution_count": null,
      "outputs": [
        {
          "output_type": "stream",
          "name": "stderr",
          "text": [
            "WARNING:apache_beam.io.filebasedsink:Deleting 1 existing files in target path matching: -*-of-%(num_shards)05d\n"
          ]
        },
        {
          "output_type": "stream",
          "name": "stdout",
          "text": [
            "PCollection[[77]: Accounts Record to String.None]\n",
            "('Marco', 31, 'Accounts')\n",
            "('Rebekah', 31, 'Accounts')\n",
            "('Itoe', 31, 'Accounts')\n",
            "('Edouard', 31, 'Accounts')\n",
            "('Kyle', 62, 'Accounts')\n",
            "('Kumiko', 31, 'Accounts')\n",
            "('Gaston', 31, 'Accounts')\n",
            "('Ayumi', 30, 'Accounts')\n",
            "('Beryl', 62, 'HR')\n",
            "('Olga', 31, 'HR')\n",
            "('Leslie', 31, 'HR')\n",
            "('Mindy', 31, 'HR')\n",
            "('Vicky', 31, 'HR')\n",
            "('Richard', 31, 'HR')\n",
            "('Kirk', 31, 'HR')\n",
            "('Kaori', 31, 'HR')\n",
            "('Oscar', 31, 'HR')\n"
          ]
        }
      ]
    },
    {
      "cell_type": "markdown",
      "source": [
        "# Word Count Example"
      ],
      "metadata": {
        "id": "AcrS5GC_6EUh"
      }
    },
    {
      "cell_type": "code",
      "source": [
        "# import file\n",
        "\n",
        "from google.colab import files\n",
        "uploaded=files.upload()"
      ],
      "metadata": {
        "colab": {
          "base_uri": "https://localhost:8080/",
          "height": 39
        },
        "id": "uN72hhtv1zDg",
        "outputId": "40446a9c-1e5b-4331-846c-c402158ff937"
      },
      "execution_count": null,
      "outputs": [
        {
          "output_type": "display_data",
          "data": {
            "text/plain": [
              "<IPython.core.display.HTML object>"
            ],
            "text/html": [
              "\n",
              "     <input type=\"file\" id=\"files-ec8247ff-9420-4f48-b261-dd6ce30c7b05\" name=\"files[]\" multiple disabled\n",
              "        style=\"border:none\" />\n",
              "     <output id=\"result-ec8247ff-9420-4f48-b261-dd6ce30c7b05\">\n",
              "      Upload widget is only available when the cell has been executed in the\n",
              "      current browser session. Please rerun this cell to enable.\n",
              "      </output>\n",
              "      <script>// Copyright 2017 Google LLC\n",
              "//\n",
              "// Licensed under the Apache License, Version 2.0 (the \"License\");\n",
              "// you may not use this file except in compliance with the License.\n",
              "// You may obtain a copy of the License at\n",
              "//\n",
              "//      http://www.apache.org/licenses/LICENSE-2.0\n",
              "//\n",
              "// Unless required by applicable law or agreed to in writing, software\n",
              "// distributed under the License is distributed on an \"AS IS\" BASIS,\n",
              "// WITHOUT WARRANTIES OR CONDITIONS OF ANY KIND, either express or implied.\n",
              "// See the License for the specific language governing permissions and\n",
              "// limitations under the License.\n",
              "\n",
              "/**\n",
              " * @fileoverview Helpers for google.colab Python module.\n",
              " */\n",
              "(function(scope) {\n",
              "function span(text, styleAttributes = {}) {\n",
              "  const element = document.createElement('span');\n",
              "  element.textContent = text;\n",
              "  for (const key of Object.keys(styleAttributes)) {\n",
              "    element.style[key] = styleAttributes[key];\n",
              "  }\n",
              "  return element;\n",
              "}\n",
              "\n",
              "// Max number of bytes which will be uploaded at a time.\n",
              "const MAX_PAYLOAD_SIZE = 100 * 1024;\n",
              "\n",
              "function _uploadFiles(inputId, outputId) {\n",
              "  const steps = uploadFilesStep(inputId, outputId);\n",
              "  const outputElement = document.getElementById(outputId);\n",
              "  // Cache steps on the outputElement to make it available for the next call\n",
              "  // to uploadFilesContinue from Python.\n",
              "  outputElement.steps = steps;\n",
              "\n",
              "  return _uploadFilesContinue(outputId);\n",
              "}\n",
              "\n",
              "// This is roughly an async generator (not supported in the browser yet),\n",
              "// where there are multiple asynchronous steps and the Python side is going\n",
              "// to poll for completion of each step.\n",
              "// This uses a Promise to block the python side on completion of each step,\n",
              "// then passes the result of the previous step as the input to the next step.\n",
              "function _uploadFilesContinue(outputId) {\n",
              "  const outputElement = document.getElementById(outputId);\n",
              "  const steps = outputElement.steps;\n",
              "\n",
              "  const next = steps.next(outputElement.lastPromiseValue);\n",
              "  return Promise.resolve(next.value.promise).then((value) => {\n",
              "    // Cache the last promise value to make it available to the next\n",
              "    // step of the generator.\n",
              "    outputElement.lastPromiseValue = value;\n",
              "    return next.value.response;\n",
              "  });\n",
              "}\n",
              "\n",
              "/**\n",
              " * Generator function which is called between each async step of the upload\n",
              " * process.\n",
              " * @param {string} inputId Element ID of the input file picker element.\n",
              " * @param {string} outputId Element ID of the output display.\n",
              " * @return {!Iterable<!Object>} Iterable of next steps.\n",
              " */\n",
              "function* uploadFilesStep(inputId, outputId) {\n",
              "  const inputElement = document.getElementById(inputId);\n",
              "  inputElement.disabled = false;\n",
              "\n",
              "  const outputElement = document.getElementById(outputId);\n",
              "  outputElement.innerHTML = '';\n",
              "\n",
              "  const pickedPromise = new Promise((resolve) => {\n",
              "    inputElement.addEventListener('change', (e) => {\n",
              "      resolve(e.target.files);\n",
              "    });\n",
              "  });\n",
              "\n",
              "  const cancel = document.createElement('button');\n",
              "  inputElement.parentElement.appendChild(cancel);\n",
              "  cancel.textContent = 'Cancel upload';\n",
              "  const cancelPromise = new Promise((resolve) => {\n",
              "    cancel.onclick = () => {\n",
              "      resolve(null);\n",
              "    };\n",
              "  });\n",
              "\n",
              "  // Wait for the user to pick the files.\n",
              "  const files = yield {\n",
              "    promise: Promise.race([pickedPromise, cancelPromise]),\n",
              "    response: {\n",
              "      action: 'starting',\n",
              "    }\n",
              "  };\n",
              "\n",
              "  cancel.remove();\n",
              "\n",
              "  // Disable the input element since further picks are not allowed.\n",
              "  inputElement.disabled = true;\n",
              "\n",
              "  if (!files) {\n",
              "    return {\n",
              "      response: {\n",
              "        action: 'complete',\n",
              "      }\n",
              "    };\n",
              "  }\n",
              "\n",
              "  for (const file of files) {\n",
              "    const li = document.createElement('li');\n",
              "    li.append(span(file.name, {fontWeight: 'bold'}));\n",
              "    li.append(span(\n",
              "        `(${file.type || 'n/a'}) - ${file.size} bytes, ` +\n",
              "        `last modified: ${\n",
              "            file.lastModifiedDate ? file.lastModifiedDate.toLocaleDateString() :\n",
              "                                    'n/a'} - `));\n",
              "    const percent = span('0% done');\n",
              "    li.appendChild(percent);\n",
              "\n",
              "    outputElement.appendChild(li);\n",
              "\n",
              "    const fileDataPromise = new Promise((resolve) => {\n",
              "      const reader = new FileReader();\n",
              "      reader.onload = (e) => {\n",
              "        resolve(e.target.result);\n",
              "      };\n",
              "      reader.readAsArrayBuffer(file);\n",
              "    });\n",
              "    // Wait for the data to be ready.\n",
              "    let fileData = yield {\n",
              "      promise: fileDataPromise,\n",
              "      response: {\n",
              "        action: 'continue',\n",
              "      }\n",
              "    };\n",
              "\n",
              "    // Use a chunked sending to avoid message size limits. See b/62115660.\n",
              "    let position = 0;\n",
              "    do {\n",
              "      const length = Math.min(fileData.byteLength - position, MAX_PAYLOAD_SIZE);\n",
              "      const chunk = new Uint8Array(fileData, position, length);\n",
              "      position += length;\n",
              "\n",
              "      const base64 = btoa(String.fromCharCode.apply(null, chunk));\n",
              "      yield {\n",
              "        response: {\n",
              "          action: 'append',\n",
              "          file: file.name,\n",
              "          data: base64,\n",
              "        },\n",
              "      };\n",
              "\n",
              "      let percentDone = fileData.byteLength === 0 ?\n",
              "          100 :\n",
              "          Math.round((position / fileData.byteLength) * 100);\n",
              "      percent.textContent = `${percentDone}% done`;\n",
              "\n",
              "    } while (position < fileData.byteLength);\n",
              "  }\n",
              "\n",
              "  // All done.\n",
              "  yield {\n",
              "    response: {\n",
              "      action: 'complete',\n",
              "    }\n",
              "  };\n",
              "}\n",
              "\n",
              "scope.google = scope.google || {};\n",
              "scope.google.colab = scope.google.colab || {};\n",
              "scope.google.colab._files = {\n",
              "  _uploadFiles,\n",
              "  _uploadFilesContinue,\n",
              "};\n",
              "})(self);\n",
              "</script> "
            ]
          },
          "metadata": {}
        }
      ]
    },
    {
      "cell_type": "code",
      "source": [
        "# visualize input\n",
        "!{('head -n 20 data.txt')}"
      ],
      "metadata": {
        "colab": {
          "base_uri": "https://localhost:8080/"
        },
        "id": "DqSceyQS6lgp",
        "outputId": "85b6b193-c729-4169-fec7-27568794db3f"
      },
      "execution_count": null,
      "outputs": [
        {
          "output_type": "stream",
          "name": "stdout",
          "text": [
            "\tKING LEAR\r\n",
            "\r\n",
            "\r\n",
            "\tDRAMATIS PERSONAE\r\n",
            "\r\n",
            "\r\n",
            "LEAR\tking of Britain  (KING LEAR:)\r\n",
            "\r\n",
            "KING OF FRANCE:\r\n",
            "\r\n",
            "DUKE OF BURGUNDY\t(BURGUNDY:)\r\n",
            "\r\n",
            "DUKE OF CORNWALL\t(CORNWALL:)\r\n",
            "\r\n",
            "DUKE OF ALBANY\t(ALBANY:)\r\n",
            "\r\n",
            "EARL OF KENT\t(KENT:)\r\n",
            "\r\n",
            "EARL OF GLOUCESTER\t(GLOUCESTER:)\r\n",
            "\r\n"
          ]
        }
      ]
    },
    {
      "cell_type": "code",
      "source": [
        "\n",
        "import apache_beam as beam\n",
        "import re\n",
        "\n",
        "other_than_non_space_char_pattern = r'[^a-zA-Z]+'\n",
        "non_space_char_word = r'^\\S+$'\n",
        "# Creating Pipeline with context\n",
        "with beam.Pipeline() as pipeline:\n",
        "  imported=(pipeline\n",
        "              | beam.io.ReadFromText(\"data.txt\")\n",
        "              | beam.FlatMap(lambda row: re.split(other_than_non_space_char_pattern, row))\n",
        "              | beam.Filter(lambda word: bool(re.match(non_space_char_word, word)))\n",
        "              | beam.Map(lambda word: (word,1))\n",
        "              | beam.CombinePerKey(sum)\n",
        "              | beam.Map(lambda row: ', '.join([ str(r) for r in row]))\n",
        "              | \"Write to File\" >> beam.io.WriteToText('data/output')\n",
        "            )\n",
        "\n",
        "!{('head -n 20 data/output*')}"
      ],
      "metadata": {
        "colab": {
          "base_uri": "https://localhost:8080/"
        },
        "id": "7sWaMG_P7NbR",
        "outputId": "de573006-254f-496d-b2c9-f6df2632e461"
      },
      "execution_count": null,
      "outputs": [
        {
          "output_type": "stream",
          "name": "stderr",
          "text": [
            "WARNING:apache_beam.io.filebasedsink:Deleting 1 existing files in target path matching: -*-of-%(num_shards)05d\n"
          ]
        },
        {
          "output_type": "stream",
          "name": "stdout",
          "text": [
            "KING, 243\n",
            "LEAR, 236\n",
            "DRAMATIS, 1\n",
            "PERSONAE, 1\n",
            "king, 65\n",
            "of, 447\n",
            "Britain, 2\n",
            "OF, 15\n",
            "FRANCE, 10\n",
            "DUKE, 3\n",
            "BURGUNDY, 8\n",
            "CORNWALL, 63\n",
            "ALBANY, 68\n",
            "EARL, 2\n",
            "KENT, 156\n",
            "GLOUCESTER, 143\n",
            "EDGAR, 126\n",
            "son, 29\n",
            "to, 440\n",
            "Gloucester, 36\n"
          ]
        }
      ]
    },
    {
      "cell_type": "markdown",
      "source": [
        "# ParDo Transform\n",
        "\n",
        "- A ParDo transform takes each element of input Pcollection, performs processing function on it and emits 0,1 or multiple elements\n",
        "\n",
        "- Map, FlatMap and Filter are special cases of ParDo function\n",
        "- **Returns a generator of elements on which next is called by the next transform**\n",
        "\n",
        "## Functionalities\n",
        "\n",
        "- **Filtering** : ParDo can take each element of Pcollection and decide either to output or discard it.\n",
        "- **Formatting or Type conversion** : ParDo can change the type or format of input elements\n",
        "- **Extracting individual parts** : ParDo can be used to extract individual elements from a single element.\n",
        "- **Computations** : ParDo can perform any processing function on the input elements and outputs a Pcollection\n",
        "\n"
      ],
      "metadata": {
        "id": "zxj7i5MNGTPI"
      }
    },
    {
      "cell_type": "code",
      "source": [
        "import apache_beam as beam\n",
        "\n",
        "\n",
        "# Acts as a map function\n",
        "class SplitRow(beam.DoFn):\n",
        "\n",
        "  def process(self,element):\n",
        "    #return type -> list\n",
        "    return [element.split(',')]\n",
        "\n",
        "class PairEmployees(beam.DoFn):\n",
        "  def process(self,element):\n",
        "    return [(element[1],1)]\n",
        "\n",
        "class Counting(beam.DoFn):\n",
        "\n",
        "  def process(self,element):\n",
        "    (key,values)=element\n",
        "    return [(key,sum(values))]\n",
        "\n",
        "with beam.Pipeline() as pipeline:\n",
        "  imported=(pipeline\n",
        "              | beam.io.ReadFromText(\"dept_data.txt\")\n",
        "              | beam.ParDo(SplitRow())\n",
        "              | beam.ParDo(lambda row: [row] if row[3]==\"Accounts\" else None)\n",
        "              | beam.ParDo(PairEmployees())\n",
        "              | beam.GroupByKey()\n",
        "              | beam.ParDo(Counting())\n",
        "              | \"Write to File\" >> beam.io.WriteToText('data/output')\n",
        "            )\n",
        "\n",
        "!{('head -n 20 data/output*')}"
      ],
      "metadata": {
        "colab": {
          "base_uri": "https://localhost:8080/"
        },
        "id": "joVyt_qQ8Ujw",
        "outputId": "450a3d36-5bfd-43e7-aae0-91e1fccefd7e"
      },
      "execution_count": null,
      "outputs": [
        {
          "output_type": "stream",
          "name": "stderr",
          "text": [
            "WARNING:apache_beam.io.filebasedsink:Deleting 1 existing files in target path matching: -*-of-%(num_shards)05d\n"
          ]
        },
        {
          "output_type": "stream",
          "name": "stdout",
          "text": [
            "('Marco', 31)\n",
            "('Rebekah', 31)\n",
            "('Itoe', 31)\n",
            "('Edouard', 31)\n",
            "('Kyle', 62)\n",
            "('Kumiko', 31)\n",
            "('Gaston', 31)\n",
            "('Ayumi', 30)\n"
          ]
        }
      ]
    },
    {
      "cell_type": "markdown",
      "source": [
        "## Side Inputs\n",
        "\n",
        "- Additional data provided to a DoFn object\n",
        "- Can be provided to ParDo or its child Transforms Map and FlatMap\n",
        "- sided inputs need to be determined at runtime of the pipeline\n",
        "- side inputs should be smaller in size then the actual input\n"
      ],
      "metadata": {
        "id": "3wFA6uKovkwv"
      }
    },
    {
      "cell_type": "code",
      "source": [
        "from math import inf\n",
        "import apache_beam as beam\n",
        "\n",
        "'''\n",
        "  Do the attendance count with below conditions\n",
        "\n",
        "  - Accounts dept employees excluding few in exclusions.txt\n",
        "  - Also the employee name's length be between 3-10\n",
        "'''\n",
        "\n",
        "\n",
        "side_list=list()\n",
        "with open('exclusions.txt','r') as exclusions_file:\n",
        "  for line in exclusions_file:\n",
        "    side_list.append(line.rstrip())\n",
        "\n",
        "\n",
        "class FilterUsingLength(beam.DoFn):\n",
        "\n",
        "  def process(self,element,exclusion_list,lower_bound,upper_bound=inf):\n",
        "    id=element.split(',')[0]\n",
        "    name=element.split(',')[1]\n",
        "    element_list=element.split(',')\n",
        "    if lower_bound <= len(name) <= upper_bound and id not in side_list:\n",
        "      return [element_list]\n",
        "\n",
        "\n",
        "with beam.Pipeline() as pipeline:\n",
        "  (pipeline\n",
        "    | \"Read from text file\" >> beam.io.ReadFromText('dept_data.txt')\n",
        "    | \"ParDo with side inputs\" >> beam.ParDo(FilterUsingLength(),side_list,3,10)\n",
        "    | \"Filter on account Dept\" >> beam.Filter(lambda record: record[3]=='Accounts')\n",
        "    | \"Map to count record\" >> beam.Map(lambda record: ((record[0],record[1]),1))\n",
        "    | \"Combine By Id and sum the 1 count\" >> beam.CombinePerKey(sum)\n",
        "    | \"Write results\" >> beam.io.WriteToText('data/output')\n",
        "  )\n",
        "\n",
        "\n",
        "!{('head -n 20 data/output*')}"
      ],
      "metadata": {
        "colab": {
          "base_uri": "https://localhost:8080/"
        },
        "id": "pa-KOTsuv-Zx",
        "outputId": "091fda44-3b4f-43ab-cbdf-73c05015b7e3"
      },
      "execution_count": null,
      "outputs": [
        {
          "output_type": "stream",
          "name": "stderr",
          "text": [
            "WARNING:apache_beam.io.filebasedsink:Deleting 1 existing files in target path matching: -*-of-%(num_shards)05d\n"
          ]
        },
        {
          "output_type": "stream",
          "name": "stdout",
          "text": [
            "(('503996WI', 'Edouard'), 31)\n",
            "(('957149WC', 'Kyle'), 31)\n",
            "(('241316NX', 'Kumiko'), 31)\n",
            "(('796656IE', 'Gaston'), 31)\n",
            "(('718737IX', 'Ayumi'), 30)\n"
          ]
        }
      ]
    },
    {
      "cell_type": "markdown",
      "source": [
        "## Branching using Additional Outputs\n",
        "\n",
        "\n",
        "\n",
        "\n"
      ],
      "metadata": {
        "id": "a2ZedDQM2cJr"
      }
    },
    {
      "cell_type": "code",
      "source": [
        "import apache_beam as beam\n",
        "\n",
        "# DoFn implementation\n",
        "class ProcessWords(beam.DoFn):\n",
        "  def process(self,element,cutoff_length,marker):\n",
        "    name=element.split(',')[1]\n",
        "    if name.startswith(marker):\n",
        "      return [name]\n",
        "    elif len(name) <= cutoff_length:\n",
        "      return [beam.pvalue.TaggedOutput('Short_Names',name)]\n",
        "    else:\n",
        "      return [beam.pvalue.TaggedOutput('Long_Names',name)]\n",
        "\n",
        "\n",
        "with beam.Pipeline() as pipeline:\n",
        "  results=(\n",
        "      pipeline\n",
        "      | beam.io.ReadFromText('dept_data.txt')\n",
        "      | beam.ParDo(ProcessWords(), cutoff_length=4, marker='K').with_outputs('Short_Names','Long_Names',main='K')\n",
        "  )\n",
        "  short_collection= results.Short_Names\n",
        "  short_collection | \"write short names\" >> beam.io.WriteToText('data/short-names')\n",
        "  long_collection= results.Long_Names\n",
        "  long_collection | \"write long names\" >> beam.io.WriteToText('data/long-names')\n",
        "  startK_collection= results.K\n",
        "  startK_collection | \"write names starting with K\" >> beam.io.WriteToText('data/names_starting')\n",
        "\n",
        "print(\"----short names----\")\n",
        "!{('head -n 20 data/short-names*')}\n",
        "print(\"----long names-----\")\n",
        "!{('head -n 20 data/long-names*')}\n",
        "print(\"----names starting with k-----\")\n",
        "!{('head -n 20 data/names_starting*')}\n",
        "\n"
      ],
      "metadata": {
        "colab": {
          "base_uri": "https://localhost:8080/"
        },
        "id": "ZYqycIJk3KLg",
        "outputId": "37a4e396-a0f6-45bb-c390-9c6babb40ca9"
      },
      "execution_count": null,
      "outputs": [
        {
          "output_type": "stream",
          "name": "stderr",
          "text": [
            "WARNING:apache_beam.io.filebasedsink:Deleting 1 existing files in target path matching: -*-of-%(num_shards)05d\n",
            "WARNING:apache_beam.io.filebasedsink:Deleting 1 existing files in target path matching: -*-of-%(num_shards)05d\n",
            "WARNING:apache_beam.io.filebasedsink:Deleting 1 existing files in target path matching: -*-of-%(num_shards)05d\n"
          ]
        },
        {
          "output_type": "stream",
          "name": "stdout",
          "text": [
            "----short names----\n",
            "Itoe\n",
            "Olga\n",
            "Itoe\n",
            "Olga\n",
            "Itoe\n",
            "Olga\n",
            "Itoe\n",
            "Olga\n",
            "Itoe\n",
            "Olga\n",
            "Itoe\n",
            "Olga\n",
            "Itoe\n",
            "Olga\n",
            "Itoe\n",
            "Olga\n",
            "Itoe\n",
            "Olga\n",
            "Itoe\n",
            "Olga\n",
            "----long names-----\n",
            "Marco\n",
            "Rebekah\n",
            "Edouard\n",
            "Gaston\n",
            "Beryl\n",
            "Leslie\n",
            "Mindy\n",
            "Vicky\n",
            "Richard\n",
            "Beryl\n",
            "Oscar\n",
            "Wendy\n",
            "Cristobal\n",
            "Erika\n",
            "Sebastien\n",
            "Valerie\n",
            "Dolly\n",
            "Emily\n",
            "Hitomi\n",
            "Marco\n",
            "----names starting with k-----\n",
            "==> data/names_starting-00000-of-00001 <==\n",
            "Kyle\n",
            "Kyle\n",
            "Kumiko\n",
            "Kirk\n",
            "Kaori\n",
            "Kumiko\n",
            "Kaori\n",
            "Kyle\n",
            "Kyle\n",
            "Kumiko\n",
            "Kirk\n",
            "Kaori\n",
            "Kumiko\n",
            "Kaori\n",
            "Kyle\n",
            "Kyle\n",
            "Kumiko\n",
            "Kirk\n",
            "Kaori\n",
            "Kumiko\n",
            "\n",
            "==> data/names_starting_a-00000-of-00001 <==\n"
          ]
        }
      ]
    },
    {
      "cell_type": "markdown",
      "source": [
        "# Combiner Transform\n",
        "\n",
        "- **create_accumlator** : Creates a new local accumlator in each machine, keeps a record of (sum,counts)\n",
        "\n",
        "- **add_input** : adds am input element to accumlator, returning new (sum,count) value\n",
        "\n",
        "- **merge_accumlators** : merges all machines accumlators into a single one. In our case all the (sum, counts) from various machines are gathered and summed up.\n",
        "\n",
        "- **extract_output** : Performs the final computation on the merge_accumlator result. Called only once on the merge_accumlator result\n",
        "\n",
        "# Example\n",
        "\n",
        "```python\n",
        "class SumFn(beam.CombineFn):\n",
        "    def create_accumulator(self):\n",
        "        return 0  # Initialize accumulator to 0\n",
        "\n",
        "    def add_input(self, accumulator, element):\n",
        "        return accumulator + element  # Incrementally add input element to accumulator\n",
        "\n",
        "    def merge_accumulators(self, accumulators):\n",
        "        return sum(accumulators)  # Merge multiple accumulators into one\n",
        "\n",
        "    def extract_output(self, accumulator):\n",
        "        return accumulator  # Return the final accumulated sum\n",
        "\n",
        "```\n",
        "\n"
      ],
      "metadata": {
        "id": "30qSfpfKS4WJ"
      }
    },
    {
      "cell_type": "code",
      "source": [
        "import apache_beam as beam\n",
        "\n",
        "\n",
        "# Acts as a map function\n",
        "class SplitRow(beam.DoFn):\n",
        "\n",
        "  def process(self,element):\n",
        "    #return type -> list\n",
        "    return [element.split(',')]\n",
        "\n",
        "class PairEmployees(beam.DoFn):\n",
        "  def process(self,element):\n",
        "    return [(element[1],1)]\n",
        "\n",
        "\n",
        "## Modified Counting\n",
        "class Counting(beam.DoFn):\n",
        "  def process(self,element):\n",
        "    result=[]\n",
        "    for id,values in element:\n",
        "      result.append((id,sum(values)))\n",
        "\n",
        "    return result\n",
        "\n",
        "\n",
        "## Custom Combiner\n",
        "class GroupByKey(beam.CombineFn):\n",
        "\n",
        "  def create_accumulator(self):\n",
        "    return {}\n",
        "\n",
        "  def add_input(self, accumlator,element,*args, **kwargs):\n",
        "    (id,_)=element\n",
        "    counts=accumlator.get(id,[])\n",
        "    counts.append(1)\n",
        "    accumlator[id]=counts\n",
        "    return accumlator\n",
        "\n",
        "  def merge_accumulators(self, accumlators,*args, **kwargs):\n",
        "    merged_accumlator = {}\n",
        "    for accumlator in accumlators:\n",
        "      for id,counts in accumlator.items():\n",
        "        merged_counts=merged_accumlator.get(id,[])\n",
        "        merged_counts.extend(counts)\n",
        "        merged_accumlator[id]=merged_counts\n",
        "    return merged_accumlator\n",
        "\n",
        "  def extract_output(self, merged_counts,*args, **kwargs):\n",
        "    return [ (id,values) for id,values in merged_counts.items() ]\n",
        "\n",
        "\n",
        "with beam.Pipeline() as pipeline:\n",
        "  imported=(pipeline\n",
        "              | beam.io.ReadFromText(\"dept_data.txt\")\n",
        "              | beam.ParDo(SplitRow())\n",
        "              | beam.ParDo(lambda row: [row] if row[3]==\"Accounts\" else None)\n",
        "              | beam.ParDo(PairEmployees())\n",
        "              | beam.CombineGlobally(GroupByKey())\n",
        "              | beam.ParDo(Counting())\n",
        "              | beam.io.WriteToText('data/output')\n",
        "            )\n",
        "\n",
        "!{('head -n 20 data/output*')}"
      ],
      "metadata": {
        "colab": {
          "base_uri": "https://localhost:8080/"
        },
        "id": "k-uTs3UEKXda",
        "outputId": "16b5c51a-d939-4fad-fafa-9a73c4341dec"
      },
      "execution_count": null,
      "outputs": [
        {
          "output_type": "stream",
          "name": "stderr",
          "text": [
            "WARNING:apache_beam.io.filebasedsink:Deleting 1 existing files in target path matching: -*-of-%(num_shards)05d\n"
          ]
        },
        {
          "output_type": "stream",
          "name": "stdout",
          "text": [
            "('Marco', 31)\n",
            "('Rebekah', 31)\n",
            "('Itoe', 31)\n",
            "('Edouard', 31)\n",
            "('Kyle', 62)\n",
            "('Kumiko', 31)\n",
            "('Gaston', 31)\n",
            "('Ayumi', 30)\n"
          ]
        }
      ]
    },
    {
      "cell_type": "markdown",
      "source": [
        "\n",
        "# Composite Transform\n",
        "\n",
        "- This is to group a bunch of transforms into one transform\n",
        "- We do this by extending PTransform class which is base class for all the transforms in Beam\n"
      ],
      "metadata": {
        "id": "HPfUnY5ioDig"
      }
    },
    {
      "cell_type": "code",
      "source": [
        "import apache_beam as beam\n",
        "\n",
        "class MyTransform(beam.PTransform):\n",
        "\n",
        "  def expand(self, input):\n",
        "    output = (\n",
        "    input\n",
        "      | \"Filter on count > 30\" >> beam.Filter(lambda record: record[1]>30)\n",
        "      | \"Tags With Employee\" >> beam.Map(lambda record: (*record,'Employee'))\n",
        "      | \"Map Record to String\" >> beam.Map(lambda employee_count: str(employee_count))\n",
        "    )\n",
        "    return output\n",
        "\n",
        "\n",
        "\n",
        "\n",
        "\n",
        " # Creating Pipeline with context\n",
        "\n",
        "with beam.Pipeline() as pipeline:\n",
        "\n",
        "  records = (pipeline\n",
        "      | \"Reader\" >> beam.io.ReadFromText('dept_data.txt')\n",
        "      | \"Split into records\" >> beam.Map(lambda record : record.split(',')))\n",
        "\n",
        "  accounts_count=(\n",
        "      # Each PTransform produces new PCollection\n",
        "      records\n",
        "      | \"Filter by Accounts Department\" >> beam.Filter(lambda record: record[3]=='Accounts')\n",
        "      | \"Create Record With Accounts ID and identity\" >> beam.Map(lambda record: (record[1],1))\n",
        "      | \"Group By Id and Sum Identity Records For Accounts\" >> beam.CombinePerKey(sum)\n",
        "      | \"Accounts Transform\" >> MyTransform()\n",
        "  )\n",
        "  hr_count=(\n",
        "      # Each PTransform produces new PCollection\n",
        "      records\n",
        "      | \"Filter by HR Department\" >> beam.Filter(lambda record: record[3]=='HR')\n",
        "      | \"Create Record With HR ID and identity\" >> beam.Map(lambda record: (record[1],1))\n",
        "      | \"Group By Id and Sum Identity Records For HR\" >> beam.CombinePerKey(sum)\n",
        "      | \"HR Tranform\" >> MyTransform()\n",
        "  )\n",
        "  output=(\n",
        "      (accounts_count,hr_count)\n",
        "      | beam.Flatten()\n",
        "      | \"Write to File\" >> beam.io.WriteToText('data/output')\n",
        "  )\n",
        "\n",
        "\n",
        "# visualize input\n",
        "!{('head -n 20 data/output*')}"
      ],
      "metadata": {
        "colab": {
          "base_uri": "https://localhost:8080/"
        },
        "id": "x47JoDu0UXKL",
        "outputId": "380d3731-cfc3-4f31-ae99-87353f27b313"
      },
      "execution_count": null,
      "outputs": [
        {
          "output_type": "stream",
          "name": "stderr",
          "text": [
            "WARNING:apache_beam.io.filebasedsink:Deleting 1 existing files in target path matching: -*-of-%(num_shards)05d\n"
          ]
        },
        {
          "output_type": "stream",
          "name": "stdout",
          "text": [
            "('Marco', 31, 'Employee')\n",
            "('Rebekah', 31, 'Employee')\n",
            "('Itoe', 31, 'Employee')\n",
            "('Edouard', 31, 'Employee')\n",
            "('Kyle', 62, 'Employee')\n",
            "('Kumiko', 31, 'Employee')\n",
            "('Gaston', 31, 'Employee')\n",
            "('Beryl', 62, 'Employee')\n",
            "('Olga', 31, 'Employee')\n",
            "('Leslie', 31, 'Employee')\n",
            "('Mindy', 31, 'Employee')\n",
            "('Vicky', 31, 'Employee')\n",
            "('Richard', 31, 'Employee')\n",
            "('Kirk', 31, 'Employee')\n",
            "('Kaori', 31, 'Employee')\n",
            "('Oscar', 31, 'Employee')\n"
          ]
        }
      ]
    },
    {
      "cell_type": "markdown",
      "source": [
        "# CoGroupByKey\n",
        "\n",
        "- Relational join of two or more key/value Pcollections\n",
        "- Accepts a dictionary of key/value Pcollections and outputs a single Pcollection containing 1 key/value Tuple for each key in the input Pcollections\n"
      ],
      "metadata": {
        "id": "NXvomGk8kBSS"
      }
    },
    {
      "cell_type": "code",
      "source": [
        "from google.colab import files\n",
        "uploaded=files.upload()"
      ],
      "metadata": {
        "id": "MCpiQ-ZqqHZQ",
        "colab": {
          "base_uri": "https://localhost:8080/",
          "height": 109
        },
        "outputId": "74f36de0-1701-4719-9cd1-c22f4add51ab"
      },
      "execution_count": null,
      "outputs": [
        {
          "output_type": "display_data",
          "data": {
            "text/plain": [
              "<IPython.core.display.HTML object>"
            ],
            "text/html": [
              "\n",
              "     <input type=\"file\" id=\"files-2cd2cb51-4440-4f41-8649-9222ca50da3c\" name=\"files[]\" multiple disabled\n",
              "        style=\"border:none\" />\n",
              "     <output id=\"result-2cd2cb51-4440-4f41-8649-9222ca50da3c\">\n",
              "      Upload widget is only available when the cell has been executed in the\n",
              "      current browser session. Please rerun this cell to enable.\n",
              "      </output>\n",
              "      <script>// Copyright 2017 Google LLC\n",
              "//\n",
              "// Licensed under the Apache License, Version 2.0 (the \"License\");\n",
              "// you may not use this file except in compliance with the License.\n",
              "// You may obtain a copy of the License at\n",
              "//\n",
              "//      http://www.apache.org/licenses/LICENSE-2.0\n",
              "//\n",
              "// Unless required by applicable law or agreed to in writing, software\n",
              "// distributed under the License is distributed on an \"AS IS\" BASIS,\n",
              "// WITHOUT WARRANTIES OR CONDITIONS OF ANY KIND, either express or implied.\n",
              "// See the License for the specific language governing permissions and\n",
              "// limitations under the License.\n",
              "\n",
              "/**\n",
              " * @fileoverview Helpers for google.colab Python module.\n",
              " */\n",
              "(function(scope) {\n",
              "function span(text, styleAttributes = {}) {\n",
              "  const element = document.createElement('span');\n",
              "  element.textContent = text;\n",
              "  for (const key of Object.keys(styleAttributes)) {\n",
              "    element.style[key] = styleAttributes[key];\n",
              "  }\n",
              "  return element;\n",
              "}\n",
              "\n",
              "// Max number of bytes which will be uploaded at a time.\n",
              "const MAX_PAYLOAD_SIZE = 100 * 1024;\n",
              "\n",
              "function _uploadFiles(inputId, outputId) {\n",
              "  const steps = uploadFilesStep(inputId, outputId);\n",
              "  const outputElement = document.getElementById(outputId);\n",
              "  // Cache steps on the outputElement to make it available for the next call\n",
              "  // to uploadFilesContinue from Python.\n",
              "  outputElement.steps = steps;\n",
              "\n",
              "  return _uploadFilesContinue(outputId);\n",
              "}\n",
              "\n",
              "// This is roughly an async generator (not supported in the browser yet),\n",
              "// where there are multiple asynchronous steps and the Python side is going\n",
              "// to poll for completion of each step.\n",
              "// This uses a Promise to block the python side on completion of each step,\n",
              "// then passes the result of the previous step as the input to the next step.\n",
              "function _uploadFilesContinue(outputId) {\n",
              "  const outputElement = document.getElementById(outputId);\n",
              "  const steps = outputElement.steps;\n",
              "\n",
              "  const next = steps.next(outputElement.lastPromiseValue);\n",
              "  return Promise.resolve(next.value.promise).then((value) => {\n",
              "    // Cache the last promise value to make it available to the next\n",
              "    // step of the generator.\n",
              "    outputElement.lastPromiseValue = value;\n",
              "    return next.value.response;\n",
              "  });\n",
              "}\n",
              "\n",
              "/**\n",
              " * Generator function which is called between each async step of the upload\n",
              " * process.\n",
              " * @param {string} inputId Element ID of the input file picker element.\n",
              " * @param {string} outputId Element ID of the output display.\n",
              " * @return {!Iterable<!Object>} Iterable of next steps.\n",
              " */\n",
              "function* uploadFilesStep(inputId, outputId) {\n",
              "  const inputElement = document.getElementById(inputId);\n",
              "  inputElement.disabled = false;\n",
              "\n",
              "  const outputElement = document.getElementById(outputId);\n",
              "  outputElement.innerHTML = '';\n",
              "\n",
              "  const pickedPromise = new Promise((resolve) => {\n",
              "    inputElement.addEventListener('change', (e) => {\n",
              "      resolve(e.target.files);\n",
              "    });\n",
              "  });\n",
              "\n",
              "  const cancel = document.createElement('button');\n",
              "  inputElement.parentElement.appendChild(cancel);\n",
              "  cancel.textContent = 'Cancel upload';\n",
              "  const cancelPromise = new Promise((resolve) => {\n",
              "    cancel.onclick = () => {\n",
              "      resolve(null);\n",
              "    };\n",
              "  });\n",
              "\n",
              "  // Wait for the user to pick the files.\n",
              "  const files = yield {\n",
              "    promise: Promise.race([pickedPromise, cancelPromise]),\n",
              "    response: {\n",
              "      action: 'starting',\n",
              "    }\n",
              "  };\n",
              "\n",
              "  cancel.remove();\n",
              "\n",
              "  // Disable the input element since further picks are not allowed.\n",
              "  inputElement.disabled = true;\n",
              "\n",
              "  if (!files) {\n",
              "    return {\n",
              "      response: {\n",
              "        action: 'complete',\n",
              "      }\n",
              "    };\n",
              "  }\n",
              "\n",
              "  for (const file of files) {\n",
              "    const li = document.createElement('li');\n",
              "    li.append(span(file.name, {fontWeight: 'bold'}));\n",
              "    li.append(span(\n",
              "        `(${file.type || 'n/a'}) - ${file.size} bytes, ` +\n",
              "        `last modified: ${\n",
              "            file.lastModifiedDate ? file.lastModifiedDate.toLocaleDateString() :\n",
              "                                    'n/a'} - `));\n",
              "    const percent = span('0% done');\n",
              "    li.appendChild(percent);\n",
              "\n",
              "    outputElement.appendChild(li);\n",
              "\n",
              "    const fileDataPromise = new Promise((resolve) => {\n",
              "      const reader = new FileReader();\n",
              "      reader.onload = (e) => {\n",
              "        resolve(e.target.result);\n",
              "      };\n",
              "      reader.readAsArrayBuffer(file);\n",
              "    });\n",
              "    // Wait for the data to be ready.\n",
              "    let fileData = yield {\n",
              "      promise: fileDataPromise,\n",
              "      response: {\n",
              "        action: 'continue',\n",
              "      }\n",
              "    };\n",
              "\n",
              "    // Use a chunked sending to avoid message size limits. See b/62115660.\n",
              "    let position = 0;\n",
              "    do {\n",
              "      const length = Math.min(fileData.byteLength - position, MAX_PAYLOAD_SIZE);\n",
              "      const chunk = new Uint8Array(fileData, position, length);\n",
              "      position += length;\n",
              "\n",
              "      const base64 = btoa(String.fromCharCode.apply(null, chunk));\n",
              "      yield {\n",
              "        response: {\n",
              "          action: 'append',\n",
              "          file: file.name,\n",
              "          data: base64,\n",
              "        },\n",
              "      };\n",
              "\n",
              "      let percentDone = fileData.byteLength === 0 ?\n",
              "          100 :\n",
              "          Math.round((position / fileData.byteLength) * 100);\n",
              "      percent.textContent = `${percentDone}% done`;\n",
              "\n",
              "    } while (position < fileData.byteLength);\n",
              "  }\n",
              "\n",
              "  // All done.\n",
              "  yield {\n",
              "    response: {\n",
              "      action: 'complete',\n",
              "    }\n",
              "  };\n",
              "}\n",
              "\n",
              "scope.google = scope.google || {};\n",
              "scope.google.colab = scope.google.colab || {};\n",
              "scope.google.colab._files = {\n",
              "  _uploadFiles,\n",
              "  _uploadFilesContinue,\n",
              "};\n",
              "})(self);\n",
              "</script> "
            ]
          },
          "metadata": {}
        },
        {
          "output_type": "stream",
          "name": "stdout",
          "text": [
            "Saving dept_data.txt to dept_data.txt\n",
            "Saving location.txt to location.txt\n"
          ]
        }
      ]
    },
    {
      "cell_type": "code",
      "source": [
        "import apache_beam as beam\n",
        "\n",
        "\n",
        "with beam.Pipeline() as pipeline:\n",
        "\n",
        "  dep_rows= (\n",
        "    pipeline\n",
        "    | \"reading file 1\" >> beam.io.ReadFromText('dept_data.txt')\n",
        "    | \"Pair each employee with key\" >> beam.Map(lambda row: (row.split(\",\")[0],row.split(\",\")[1:]))\n",
        "  )\n",
        "\n",
        "  loc_rows= (\n",
        "    pipeline\n",
        "    | \"reading file 2\" >> beam.io.ReadFromText('location.txt')\n",
        "    | \"Pair each location with key\" >> beam.Map(lambda row: (row.split(\",\")[0],row.split(\",\")[1:]))\n",
        "  )\n",
        "\n",
        "  joined_rows=(\n",
        "    {'dep_data': dep_rows, 'loc_data': loc_rows}\n",
        "    | \"joining employee records with locations\" >> beam.CoGroupByKey()\n",
        "    | \"Write results\" >> beam.io.WriteToText('data/output')\n",
        "  )\n",
        "\n",
        "\n",
        "# visualize input\n",
        "!{('head -n 2 data/output*')}"
      ],
      "metadata": {
        "colab": {
          "base_uri": "https://localhost:8080/"
        },
        "id": "78rUNFsZt9PW",
        "outputId": "8bbbce88-9f32-4cfe-ce82-8db624e0beec"
      },
      "execution_count": null,
      "outputs": [
        {
          "output_type": "stream",
          "name": "stderr",
          "text": [
            "WARNING:apache_beam.io.filebasedsink:Deleting 1 existing files in target path matching: -*-of-%(num_shards)05d\n"
          ]
        },
        {
          "output_type": "stream",
          "name": "stdout",
          "text": [
            "('149633CM', {'dep_data': [['Marco', '10', 'Accounts', '1-01-2019'], ['Marco', '10', 'Accounts', '2-01-2019'], ['Marco', '10', 'Accounts', '3-01-2019'], ['Marco', '10', 'Accounts', '4-01-2019'], ['Marco', '10', 'Accounts', '5-01-2019'], ['Marco', '10', 'Accounts', '6-01-2019'], ['Marco', '10', 'Accounts', '7-01-2019'], ['Marco', '10', 'Accounts', '8-01-2019'], ['Marco', '10', 'Accounts', '9-01-2019'], ['Marco', '10', 'Accounts', '10-01-2019'], ['Marco', '10', 'Accounts', '11-01-2019'], ['Marco', '10', 'Accounts', '12-01-2019'], ['Marco', '10', 'Accounts', '13-01-2019'], ['Marco', '10', 'Accounts', '14-01-2019'], ['Marco', '10', 'Accounts', '15-01-2019'], ['Marco', '10', 'Accounts', '16-01-2019'], ['Marco', '10', 'Accounts', '17-01-2019'], ['Marco', '10', 'Accounts', '18-01-2019'], ['Marco', '10', 'Accounts', '19-01-2019'], ['Marco', '10', 'Accounts', '20-01-2019'], ['Marco', '10', 'Accounts', '21-01-2019'], ['Marco', '10', 'Accounts', '22-01-2019'], ['Marco', '10', 'Accounts', '23-01-2019'], ['Marco', '10', 'Accounts', '24-01-2019'], ['Marco', '10', 'Accounts', '25-01-2019'], ['Marco', '10', 'Accounts', '26-01-2019'], ['Marco', '10', 'Accounts', '27-01-2019'], ['Marco', '10', 'Accounts', '28-01-2019'], ['Marco', '10', 'Accounts', '29-01-2019'], ['Marco', '10', 'Accounts', '30-01-2019'], ['Marco', '10', 'Accounts', '31-01-2019']], 'loc_data': [['9876843261', 'New York'], ['9204232778', 'New York']]})\n",
            "('212539MU', {'dep_data': [['Rebekah', '10', 'Accounts', '1-01-2019'], ['Rebekah', '10', 'Accounts', '2-01-2019'], ['Rebekah', '10', 'Accounts', '3-01-2019'], ['Rebekah', '10', 'Accounts', '4-01-2019'], ['Rebekah', '10', 'Accounts', '5-01-2019'], ['Rebekah', '10', 'Accounts', '6-01-2019'], ['Rebekah', '10', 'Accounts', '7-01-2019'], ['Rebekah', '10', 'Accounts', '8-01-2019'], ['Rebekah', '10', 'Accounts', '9-01-2019'], ['Rebekah', '10', 'Accounts', '10-01-2019'], ['Rebekah', '10', 'Accounts', '11-01-2019'], ['Rebekah', '10', 'Accounts', '12-01-2019'], ['Rebekah', '10', 'Accounts', '13-01-2019'], ['Rebekah', '10', 'Accounts', '14-01-2019'], ['Rebekah', '10', 'Accounts', '15-01-2019'], ['Rebekah', '10', 'Accounts', '16-01-2019'], ['Rebekah', '10', 'Accounts', '17-01-2019'], ['Rebekah', '10', 'Accounts', '18-01-2019'], ['Rebekah', '10', 'Accounts', '19-01-2019'], ['Rebekah', '10', 'Accounts', '20-01-2019'], ['Rebekah', '10', 'Accounts', '21-01-2019'], ['Rebekah', '10', 'Accounts', '22-01-2019'], ['Rebekah', '10', 'Accounts', '23-01-2019'], ['Rebekah', '10', 'Accounts', '24-01-2019'], ['Rebekah', '10', 'Accounts', '25-01-2019'], ['Rebekah', '10', 'Accounts', '26-01-2019'], ['Rebekah', '10', 'Accounts', '27-01-2019'], ['Rebekah', '10', 'Accounts', '28-01-2019'], ['Rebekah', '10', 'Accounts', '29-01-2019'], ['Rebekah', '10', 'Accounts', '30-01-2019'], ['Rebekah', '10', 'Accounts', '31-01-2019']], 'loc_data': [['9995440673', 'Denver']]})\n"
          ]
        }
      ]
    },
    {
      "cell_type": "markdown",
      "source": [
        "\n",
        "# Union Transform : Flatten\n",
        "\n",
        "- In Apache Beam, the Flatten transformation is used to merge multiple PCollections into a single PCollection.\n",
        "\n",
        "- It is similar to the SQL UNION ALL operation, where all elements from the input collections are combined into one output collection without removing duplicates.\n",
        "\n",
        "```python\n",
        "  # medical_loan_defaulters, personal_loan_defaulters two Pcollections\n",
        "  \n",
        "  (\n",
        "    (medical_loan_defaulters,personal_loan_defaulters)\n",
        "    | \"flatten map\" >> beam.Flatten()\n",
        "    | \"Write loan defaulters\" >> beam.io.WriteToText('data/output-loan-defaulters')\n",
        "  )\n",
        "```"
      ],
      "metadata": {
        "id": "NWAj0umERWgo"
      }
    },
    {
      "cell_type": "markdown",
      "source": [
        "# Bank Use Case"
      ],
      "metadata": {
        "id": "luFmIaoLLFyR"
      }
    },
    {
      "cell_type": "markdown",
      "source": [
        "\n",
        "## Credit card skippers/defaulters:\n",
        "\n",
        "- Assign 1 point to customer for short payment, where a short payment means when customer fails to clear atleast 70% of its monthly spends.\n",
        "\n",
        "- Assign 1 point to customer where he has spent 100% of his max_limit but did not clear the full amount.\n",
        "\n",
        "- If for any month customer is meeting both the above conditions,assign 1 additional point.\n",
        "\n",
        "- Sum up all the points for a customer and output in file."
      ],
      "metadata": {
        "id": "6zqsYSpjNp30"
      }
    },
    {
      "cell_type": "code",
      "source": [
        "from google.colab import files\n",
        "uploaded=files.upload()\n",
        "!{('head -n 2 cards.txt')}"
      ],
      "metadata": {
        "colab": {
          "base_uri": "https://localhost:8080/",
          "height": 109
        },
        "id": "GQFGDgdOL7a2",
        "outputId": "291541d9-3d71-4820-c500-3d205083425e"
      },
      "execution_count": null,
      "outputs": [
        {
          "output_type": "display_data",
          "data": {
            "text/plain": [
              "<IPython.core.display.HTML object>"
            ],
            "text/html": [
              "\n",
              "     <input type=\"file\" id=\"files-1c5202c1-6d15-43ca-b8ec-b388a23d3e1f\" name=\"files[]\" multiple disabled\n",
              "        style=\"border:none\" />\n",
              "     <output id=\"result-1c5202c1-6d15-43ca-b8ec-b388a23d3e1f\">\n",
              "      Upload widget is only available when the cell has been executed in the\n",
              "      current browser session. Please rerun this cell to enable.\n",
              "      </output>\n",
              "      <script>// Copyright 2017 Google LLC\n",
              "//\n",
              "// Licensed under the Apache License, Version 2.0 (the \"License\");\n",
              "// you may not use this file except in compliance with the License.\n",
              "// You may obtain a copy of the License at\n",
              "//\n",
              "//      http://www.apache.org/licenses/LICENSE-2.0\n",
              "//\n",
              "// Unless required by applicable law or agreed to in writing, software\n",
              "// distributed under the License is distributed on an \"AS IS\" BASIS,\n",
              "// WITHOUT WARRANTIES OR CONDITIONS OF ANY KIND, either express or implied.\n",
              "// See the License for the specific language governing permissions and\n",
              "// limitations under the License.\n",
              "\n",
              "/**\n",
              " * @fileoverview Helpers for google.colab Python module.\n",
              " */\n",
              "(function(scope) {\n",
              "function span(text, styleAttributes = {}) {\n",
              "  const element = document.createElement('span');\n",
              "  element.textContent = text;\n",
              "  for (const key of Object.keys(styleAttributes)) {\n",
              "    element.style[key] = styleAttributes[key];\n",
              "  }\n",
              "  return element;\n",
              "}\n",
              "\n",
              "// Max number of bytes which will be uploaded at a time.\n",
              "const MAX_PAYLOAD_SIZE = 100 * 1024;\n",
              "\n",
              "function _uploadFiles(inputId, outputId) {\n",
              "  const steps = uploadFilesStep(inputId, outputId);\n",
              "  const outputElement = document.getElementById(outputId);\n",
              "  // Cache steps on the outputElement to make it available for the next call\n",
              "  // to uploadFilesContinue from Python.\n",
              "  outputElement.steps = steps;\n",
              "\n",
              "  return _uploadFilesContinue(outputId);\n",
              "}\n",
              "\n",
              "// This is roughly an async generator (not supported in the browser yet),\n",
              "// where there are multiple asynchronous steps and the Python side is going\n",
              "// to poll for completion of each step.\n",
              "// This uses a Promise to block the python side on completion of each step,\n",
              "// then passes the result of the previous step as the input to the next step.\n",
              "function _uploadFilesContinue(outputId) {\n",
              "  const outputElement = document.getElementById(outputId);\n",
              "  const steps = outputElement.steps;\n",
              "\n",
              "  const next = steps.next(outputElement.lastPromiseValue);\n",
              "  return Promise.resolve(next.value.promise).then((value) => {\n",
              "    // Cache the last promise value to make it available to the next\n",
              "    // step of the generator.\n",
              "    outputElement.lastPromiseValue = value;\n",
              "    return next.value.response;\n",
              "  });\n",
              "}\n",
              "\n",
              "/**\n",
              " * Generator function which is called between each async step of the upload\n",
              " * process.\n",
              " * @param {string} inputId Element ID of the input file picker element.\n",
              " * @param {string} outputId Element ID of the output display.\n",
              " * @return {!Iterable<!Object>} Iterable of next steps.\n",
              " */\n",
              "function* uploadFilesStep(inputId, outputId) {\n",
              "  const inputElement = document.getElementById(inputId);\n",
              "  inputElement.disabled = false;\n",
              "\n",
              "  const outputElement = document.getElementById(outputId);\n",
              "  outputElement.innerHTML = '';\n",
              "\n",
              "  const pickedPromise = new Promise((resolve) => {\n",
              "    inputElement.addEventListener('change', (e) => {\n",
              "      resolve(e.target.files);\n",
              "    });\n",
              "  });\n",
              "\n",
              "  const cancel = document.createElement('button');\n",
              "  inputElement.parentElement.appendChild(cancel);\n",
              "  cancel.textContent = 'Cancel upload';\n",
              "  const cancelPromise = new Promise((resolve) => {\n",
              "    cancel.onclick = () => {\n",
              "      resolve(null);\n",
              "    };\n",
              "  });\n",
              "\n",
              "  // Wait for the user to pick the files.\n",
              "  const files = yield {\n",
              "    promise: Promise.race([pickedPromise, cancelPromise]),\n",
              "    response: {\n",
              "      action: 'starting',\n",
              "    }\n",
              "  };\n",
              "\n",
              "  cancel.remove();\n",
              "\n",
              "  // Disable the input element since further picks are not allowed.\n",
              "  inputElement.disabled = true;\n",
              "\n",
              "  if (!files) {\n",
              "    return {\n",
              "      response: {\n",
              "        action: 'complete',\n",
              "      }\n",
              "    };\n",
              "  }\n",
              "\n",
              "  for (const file of files) {\n",
              "    const li = document.createElement('li');\n",
              "    li.append(span(file.name, {fontWeight: 'bold'}));\n",
              "    li.append(span(\n",
              "        `(${file.type || 'n/a'}) - ${file.size} bytes, ` +\n",
              "        `last modified: ${\n",
              "            file.lastModifiedDate ? file.lastModifiedDate.toLocaleDateString() :\n",
              "                                    'n/a'} - `));\n",
              "    const percent = span('0% done');\n",
              "    li.appendChild(percent);\n",
              "\n",
              "    outputElement.appendChild(li);\n",
              "\n",
              "    const fileDataPromise = new Promise((resolve) => {\n",
              "      const reader = new FileReader();\n",
              "      reader.onload = (e) => {\n",
              "        resolve(e.target.result);\n",
              "      };\n",
              "      reader.readAsArrayBuffer(file);\n",
              "    });\n",
              "    // Wait for the data to be ready.\n",
              "    let fileData = yield {\n",
              "      promise: fileDataPromise,\n",
              "      response: {\n",
              "        action: 'continue',\n",
              "      }\n",
              "    };\n",
              "\n",
              "    // Use a chunked sending to avoid message size limits. See b/62115660.\n",
              "    let position = 0;\n",
              "    do {\n",
              "      const length = Math.min(fileData.byteLength - position, MAX_PAYLOAD_SIZE);\n",
              "      const chunk = new Uint8Array(fileData, position, length);\n",
              "      position += length;\n",
              "\n",
              "      const base64 = btoa(String.fromCharCode.apply(null, chunk));\n",
              "      yield {\n",
              "        response: {\n",
              "          action: 'append',\n",
              "          file: file.name,\n",
              "          data: base64,\n",
              "        },\n",
              "      };\n",
              "\n",
              "      let percentDone = fileData.byteLength === 0 ?\n",
              "          100 :\n",
              "          Math.round((position / fileData.byteLength) * 100);\n",
              "      percent.textContent = `${percentDone}% done`;\n",
              "\n",
              "    } while (position < fileData.byteLength);\n",
              "  }\n",
              "\n",
              "  // All done.\n",
              "  yield {\n",
              "    response: {\n",
              "      action: 'complete',\n",
              "    }\n",
              "  };\n",
              "}\n",
              "\n",
              "scope.google = scope.google || {};\n",
              "scope.google.colab = scope.google.colab || {};\n",
              "scope.google.colab._files = {\n",
              "  _uploadFiles,\n",
              "  _uploadFilesContinue,\n",
              "};\n",
              "})(self);\n",
              "</script> "
            ]
          },
          "metadata": {}
        },
        {
          "output_type": "stream",
          "name": "stdout",
          "text": [
            "Saving cards.txt to cards (1).txt\n",
            "#Customer_id, First_name,Last_name,Relationship_no.,Card_type,Max_credit_limit,Total_Spent,Cash_withdrawn,Cleared_amount,Last_date\r\n",
            "CT28383,Miyako,Burns,R_7488,Issuers,500,490,38,101,30-01-2018\r\n"
          ]
        }
      ]
    },
    {
      "cell_type": "code",
      "source": [
        "import apache_beam as beam\n",
        "\n",
        "def map_card_defaulter(row):\n",
        "  (\n",
        "    customer_id,\n",
        "    first_name,\n",
        "    last_name,\n",
        "    relationship_no,\n",
        "    card_type,\n",
        "    max_credit_limit,\n",
        "    total_spent,\n",
        "    cash_withdrawn,\n",
        "    cleared_amount,\n",
        "    last_date\n",
        "  )=row.split(\",\")\n",
        "  defaulter_points=0\n",
        "  defaulter_points += (1 if float(cleared_amount) < 0.7*float(total_spent) else 0)\n",
        "  defaulter_points += (1 if float(total_spent) >= float(max_credit_limit) and float(cleared_amount) < float(total_spent) else 0)\n",
        "  defaulter_points += (1 if int(defaulter_points) > 2 else 0)\n",
        "  return (\n",
        "    (\n",
        "      customer_id,\n",
        "      first_name,\n",
        "      last_name\n",
        "    ),\n",
        "    defaulter_points\n",
        "  )\n",
        "\n",
        "\n",
        "\n",
        "\n",
        "\n",
        "with beam.Pipeline() as pipeline:\n",
        "  (pipeline\n",
        "  | \"reading file cards.txt\" >> beam.io.ReadFromText('cards.txt',skip_header_lines=1)\n",
        "  | \"add defualter points\" >> beam.Map(map_card_defaulter)\n",
        "  | \"Group by sum\" >> beam.CombinePerKey(sum)\n",
        "  # | \"output\" >> beam.Map(lambda row: print(row))\n",
        "  | \"output\" >>  beam.Map(lambda row: \" \".join([row[0][0],row[0][1],row[0][2],str(row[-1])]))\n",
        "  | \"Write results\" >> beam.io.WriteToText('data/output')\n",
        "  )\n",
        "\n",
        "# visualize input\n",
        "!{('head -n 2 data/output*')}"
      ],
      "metadata": {
        "colab": {
          "base_uri": "https://localhost:8080/"
        },
        "id": "Ju5HE562N9Cf",
        "outputId": "766366d6-4da7-4a33-8e3e-5d1ab6392a00"
      },
      "execution_count": null,
      "outputs": [
        {
          "output_type": "stream",
          "name": "stderr",
          "text": [
            "WARNING:apache_beam.io.filebasedsink:Deleting 1 existing files in target path matching: -*-of-%(num_shards)05d\n"
          ]
        },
        {
          "output_type": "stream",
          "name": "stdout",
          "text": [
            "CT28383 Miyako Burns 3\n",
            "CT74474 Nanaho Brennan 3\n"
          ]
        }
      ]
    },
    {
      "cell_type": "markdown",
      "source": [
        "## Loan file key points:\n",
        "\n",
        "- For Personal loan category, Bank does not accept short or late payments.\n",
        "- If a person has not paid monthly installment then that month's entry won't be present in the file.\n",
        "- For Medical loan, Bank does accepts late payments but it should be the full amount.\n",
        "- It is assumed that there is every month's data/record for Medical Loan.\n",
        "       \n",
        "## Loan defaulters:\n",
        "\n",
        "- Medical Loan defaulters : If customer has made a total of 3 or more late payments.\n",
        "\n",
        "- Personal Loan defaulters : If customer has missed a total of 4 or more installments OR missed 2 consecutive installments."
      ],
      "metadata": {
        "id": "pG3qzc6dNt8z"
      }
    },
    {
      "cell_type": "code",
      "source": [
        "from google.colab import files\n",
        "uploaded=files.upload()\n",
        "!{('head -n 2 loan.txt')}"
      ],
      "metadata": {
        "colab": {
          "base_uri": "https://localhost:8080/",
          "height": 109
        },
        "id": "Reft3uqwNwfi",
        "outputId": "3fbfc995-da78-40ed-8075-e6b5f3e679f0"
      },
      "execution_count": null,
      "outputs": [
        {
          "output_type": "display_data",
          "data": {
            "text/plain": [
              "<IPython.core.display.HTML object>"
            ],
            "text/html": [
              "\n",
              "     <input type=\"file\" id=\"files-862fa991-0d91-4ac9-86db-085e360bca58\" name=\"files[]\" multiple disabled\n",
              "        style=\"border:none\" />\n",
              "     <output id=\"result-862fa991-0d91-4ac9-86db-085e360bca58\">\n",
              "      Upload widget is only available when the cell has been executed in the\n",
              "      current browser session. Please rerun this cell to enable.\n",
              "      </output>\n",
              "      <script>// Copyright 2017 Google LLC\n",
              "//\n",
              "// Licensed under the Apache License, Version 2.0 (the \"License\");\n",
              "// you may not use this file except in compliance with the License.\n",
              "// You may obtain a copy of the License at\n",
              "//\n",
              "//      http://www.apache.org/licenses/LICENSE-2.0\n",
              "//\n",
              "// Unless required by applicable law or agreed to in writing, software\n",
              "// distributed under the License is distributed on an \"AS IS\" BASIS,\n",
              "// WITHOUT WARRANTIES OR CONDITIONS OF ANY KIND, either express or implied.\n",
              "// See the License for the specific language governing permissions and\n",
              "// limitations under the License.\n",
              "\n",
              "/**\n",
              " * @fileoverview Helpers for google.colab Python module.\n",
              " */\n",
              "(function(scope) {\n",
              "function span(text, styleAttributes = {}) {\n",
              "  const element = document.createElement('span');\n",
              "  element.textContent = text;\n",
              "  for (const key of Object.keys(styleAttributes)) {\n",
              "    element.style[key] = styleAttributes[key];\n",
              "  }\n",
              "  return element;\n",
              "}\n",
              "\n",
              "// Max number of bytes which will be uploaded at a time.\n",
              "const MAX_PAYLOAD_SIZE = 100 * 1024;\n",
              "\n",
              "function _uploadFiles(inputId, outputId) {\n",
              "  const steps = uploadFilesStep(inputId, outputId);\n",
              "  const outputElement = document.getElementById(outputId);\n",
              "  // Cache steps on the outputElement to make it available for the next call\n",
              "  // to uploadFilesContinue from Python.\n",
              "  outputElement.steps = steps;\n",
              "\n",
              "  return _uploadFilesContinue(outputId);\n",
              "}\n",
              "\n",
              "// This is roughly an async generator (not supported in the browser yet),\n",
              "// where there are multiple asynchronous steps and the Python side is going\n",
              "// to poll for completion of each step.\n",
              "// This uses a Promise to block the python side on completion of each step,\n",
              "// then passes the result of the previous step as the input to the next step.\n",
              "function _uploadFilesContinue(outputId) {\n",
              "  const outputElement = document.getElementById(outputId);\n",
              "  const steps = outputElement.steps;\n",
              "\n",
              "  const next = steps.next(outputElement.lastPromiseValue);\n",
              "  return Promise.resolve(next.value.promise).then((value) => {\n",
              "    // Cache the last promise value to make it available to the next\n",
              "    // step of the generator.\n",
              "    outputElement.lastPromiseValue = value;\n",
              "    return next.value.response;\n",
              "  });\n",
              "}\n",
              "\n",
              "/**\n",
              " * Generator function which is called between each async step of the upload\n",
              " * process.\n",
              " * @param {string} inputId Element ID of the input file picker element.\n",
              " * @param {string} outputId Element ID of the output display.\n",
              " * @return {!Iterable<!Object>} Iterable of next steps.\n",
              " */\n",
              "function* uploadFilesStep(inputId, outputId) {\n",
              "  const inputElement = document.getElementById(inputId);\n",
              "  inputElement.disabled = false;\n",
              "\n",
              "  const outputElement = document.getElementById(outputId);\n",
              "  outputElement.innerHTML = '';\n",
              "\n",
              "  const pickedPromise = new Promise((resolve) => {\n",
              "    inputElement.addEventListener('change', (e) => {\n",
              "      resolve(e.target.files);\n",
              "    });\n",
              "  });\n",
              "\n",
              "  const cancel = document.createElement('button');\n",
              "  inputElement.parentElement.appendChild(cancel);\n",
              "  cancel.textContent = 'Cancel upload';\n",
              "  const cancelPromise = new Promise((resolve) => {\n",
              "    cancel.onclick = () => {\n",
              "      resolve(null);\n",
              "    };\n",
              "  });\n",
              "\n",
              "  // Wait for the user to pick the files.\n",
              "  const files = yield {\n",
              "    promise: Promise.race([pickedPromise, cancelPromise]),\n",
              "    response: {\n",
              "      action: 'starting',\n",
              "    }\n",
              "  };\n",
              "\n",
              "  cancel.remove();\n",
              "\n",
              "  // Disable the input element since further picks are not allowed.\n",
              "  inputElement.disabled = true;\n",
              "\n",
              "  if (!files) {\n",
              "    return {\n",
              "      response: {\n",
              "        action: 'complete',\n",
              "      }\n",
              "    };\n",
              "  }\n",
              "\n",
              "  for (const file of files) {\n",
              "    const li = document.createElement('li');\n",
              "    li.append(span(file.name, {fontWeight: 'bold'}));\n",
              "    li.append(span(\n",
              "        `(${file.type || 'n/a'}) - ${file.size} bytes, ` +\n",
              "        `last modified: ${\n",
              "            file.lastModifiedDate ? file.lastModifiedDate.toLocaleDateString() :\n",
              "                                    'n/a'} - `));\n",
              "    const percent = span('0% done');\n",
              "    li.appendChild(percent);\n",
              "\n",
              "    outputElement.appendChild(li);\n",
              "\n",
              "    const fileDataPromise = new Promise((resolve) => {\n",
              "      const reader = new FileReader();\n",
              "      reader.onload = (e) => {\n",
              "        resolve(e.target.result);\n",
              "      };\n",
              "      reader.readAsArrayBuffer(file);\n",
              "    });\n",
              "    // Wait for the data to be ready.\n",
              "    let fileData = yield {\n",
              "      promise: fileDataPromise,\n",
              "      response: {\n",
              "        action: 'continue',\n",
              "      }\n",
              "    };\n",
              "\n",
              "    // Use a chunked sending to avoid message size limits. See b/62115660.\n",
              "    let position = 0;\n",
              "    do {\n",
              "      const length = Math.min(fileData.byteLength - position, MAX_PAYLOAD_SIZE);\n",
              "      const chunk = new Uint8Array(fileData, position, length);\n",
              "      position += length;\n",
              "\n",
              "      const base64 = btoa(String.fromCharCode.apply(null, chunk));\n",
              "      yield {\n",
              "        response: {\n",
              "          action: 'append',\n",
              "          file: file.name,\n",
              "          data: base64,\n",
              "        },\n",
              "      };\n",
              "\n",
              "      let percentDone = fileData.byteLength === 0 ?\n",
              "          100 :\n",
              "          Math.round((position / fileData.byteLength) * 100);\n",
              "      percent.textContent = `${percentDone}% done`;\n",
              "\n",
              "    } while (position < fileData.byteLength);\n",
              "  }\n",
              "\n",
              "  // All done.\n",
              "  yield {\n",
              "    response: {\n",
              "      action: 'complete',\n",
              "    }\n",
              "  };\n",
              "}\n",
              "\n",
              "scope.google = scope.google || {};\n",
              "scope.google.colab = scope.google.colab || {};\n",
              "scope.google.colab._files = {\n",
              "  _uploadFiles,\n",
              "  _uploadFilesContinue,\n",
              "};\n",
              "})(self);\n",
              "</script> "
            ]
          },
          "metadata": {}
        },
        {
          "output_type": "stream",
          "name": "stdout",
          "text": [
            "Saving loan.txt to loan.txt\n",
            "#customer_id, first_name,last_name,customer_category,loan_id, loan_category, due_date, due_amount, payment_date\r\n",
            "CT88330,Humberto,Banks,Serviceman,LN_1559,Medical Loan,26-01-2018, 2000, 30-01-2018\r\n"
          ]
        }
      ]
    },
    {
      "cell_type": "code",
      "source": [
        "import apache_beam as beam\n",
        "from datetime import datetime\n",
        "\n",
        "date_format = \"%d-%m-%Y\"\n",
        "\n",
        "class CollectLoanRecordsPerPerson(beam.CombineFn):\n",
        "    def create_accumulator(self):\n",
        "      return [] # Initialize accumulator to 0\n",
        "\n",
        "    def add_input(self, accumulator, element):\n",
        "      accumulator.append(element)\n",
        "      return accumulator  # Incrementally add input element to accumulator\n",
        "\n",
        "    def merge_accumulators(self, accumulators):\n",
        "      return accumulators\n",
        "\n",
        "\n",
        "    def extract_output(self, accumulator):\n",
        "      return accumulator  # Return the final accumulated sum\n",
        "\n",
        "\n",
        "\n",
        "# DoFn implementation\n",
        "class ProcessRecords(beam.DoFn):\n",
        "  def process(self,element):\n",
        "    (\n",
        "        customer_id,\n",
        "        first_name,\n",
        "        last_name,\n",
        "        customer_category,\n",
        "        loan_id,\n",
        "        loan_category,\n",
        "        due_date,\n",
        "        due_amount,\n",
        "        payment_date\n",
        "    )=element.split(',')\n",
        "    due_date=datetime.strptime(due_date.strip(), date_format)\n",
        "    payment_date=datetime.strptime(payment_date.strip(), date_format)\n",
        "    record=((customer_id, first_name, last_name),(due_date,payment_date,1 if due_date<payment_date else 0))\n",
        "    if loan_category=='Medical Loan':\n",
        "      return [beam.pvalue.TaggedOutput('medical_loan',record)]\n",
        "    else:\n",
        "      return [record]\n",
        "\n",
        "def find_personal_loan_defaulter(row):\n",
        "  personal_detail,payments=row\n",
        "  prev=None\n",
        "  count=0\n",
        "  total=0\n",
        "  map={ i:1 for i in range(1,13)}\n",
        "  for month,missed in payments:\n",
        "    map[month]=missed\n",
        "  if sum(map.values())>4:\n",
        "    return row\n",
        "  else:\n",
        "    for curr_month in range(2,13):\n",
        "      if map[curr_month] and map.get(curr_month-1,1):\n",
        "        return row\n",
        "    return None\n",
        "\n",
        "\n",
        "with beam.Pipeline() as pipeline:\n",
        "  results = (pipeline\n",
        "              | \"split string\" >> beam.io.ReadFromText('loan.txt',skip_header_lines=1)\n",
        "              | \"map rows \" >> beam.ParDo(ProcessRecords()).with_outputs('medical_loan',main='personal_loan')\n",
        "            )\n",
        "  medical_loans=results.medical_loan\n",
        "  personal_loans=results.personal_loan\n",
        "  medical_loan_defaulters=(\n",
        "    medical_loans\n",
        "    | \"map to personal_details,defaulter_point\" >> beam.Map(lambda row:(row[0],row[1][2]))\n",
        "    | \"collect medical loans per person\" >> beam.CombinePerKey(sum)\n",
        "    | \"filter potential medical loans defaulters\" >> beam.Filter(lambda row: row[-1]>=3)\n",
        "    | \"medical loans names\" >> beam.Map(lambda row: \" \".join(row[0]))\n",
        "    | \"Write medical loans defaulters\" >> beam.io.WriteToText('data/output-medical-loan-defaulters')\n",
        "  )\n",
        "\n",
        "  personal_loan_defaulters=(\n",
        "    personal_loans\n",
        "    | \"create monthly mapper\" >> beam.Map(lambda row: (row[0],(row[1][0].month,row[1][-1])))\n",
        "    | \"collect personal loans per person\" >> beam.CombinePerKey(CollectLoanRecordsPerPerson())\n",
        "    | \"collect personal loans per person all months\" >> beam.Map(lambda row: (row[0],row[1][0]))\n",
        "    | \"filter defaulters\" >> beam.Filter(find_personal_loan_defaulter)\n",
        "    | \"personal loans names\" >> beam.Map(lambda row: \" \".join(row[0]))\n",
        "  )\n",
        "\n",
        "  (\n",
        "    (medical_loan_defaulters,personal_loan_defaulters)\n",
        "    | \"flatten map\" >> beam.Flatten()\n",
        "    | \"Write loan defaulters\" >> beam.io.WriteToText('data/output-loan-defaulters')\n",
        "  )\n",
        "\n",
        "\n",
        "# visualize input\n",
        "!{('head -n 2 data/output-loan-defaulters*')}"
      ],
      "metadata": {
        "colab": {
          "base_uri": "https://localhost:8080/"
        },
        "id": "7DYbR9KCaftK",
        "outputId": "55f0c354-5b11-4d7b-cace-402f9c34fc3b"
      },
      "execution_count": null,
      "outputs": [
        {
          "output_type": "stream",
          "name": "stderr",
          "text": [
            "WARNING:apache_beam.io.filebasedsink:Deleting 1 existing files in target path matching: -*-of-%(num_shards)05d\n",
            "WARNING:apache_beam.io.filebasedsink:Deleting 1 existing files in target path matching: -*-of-%(num_shards)05d\n"
          ]
        },
        {
          "output_type": "stream",
          "name": "stdout",
          "text": [
            "CT68554 Ronald Chiki\n",
            "CT74421 Fabian Browning\n"
          ]
        }
      ]
    },
    {
      "cell_type": "markdown",
      "source": [
        "# Type Safety\n",
        "\n",
        "- Type Safety is prevention of typed errors in a programming language where type error means when someone attempts to perform an operation on a value that does not support that operation\n",
        "\n",
        "- We can provide TypeHints to provide type safety\n",
        "\n",
        "## Types of typehints\n",
        "\n",
        "- **Inline**: Provided during pipeline construction (on Transforms).\n",
        "- **Outline**: Provided as properties of the DoFn using decorators.\n",
        "\n",
        "## Type Hint type:\n",
        "\n",
        "- Simple Typehint: Includes primitive types like **`int`**, **`str`**, **`user defined classes`**\n",
        "- Parameterized Typehint: Includes nested types, basically for container Python objects for ex. **`List`**, **`Tuple`**, **`List[Tuple[int,str,str]]`**\n",
        "- Special Typehint: Includes those special types which are introduced in PEP 484 for ex. **`Any`**, **`Union`**, **`Optional[T]`**\n"
      ],
      "metadata": {
        "id": "fybN-m_dJFoA"
      }
    },
    {
      "cell_type": "code",
      "source": [
        "import apache_beam as beam\n",
        "from typing import List\n",
        "\n",
        "\n",
        "@beam.typehints.with_output_types(str) # outline output typing\n",
        "@beam.typehints.with_input_types(int) # inline output typing\n",
        "class IntToStr(beam.DoFn):\n",
        "  def process(self,element):\n",
        "    return str(element)\n",
        "\n",
        "with beam.Pipeline() as pipeline:\n",
        "  (\n",
        "    pipeline\n",
        "    | beam.Create([1,2,3,4,5])\n",
        "    | beam.Filter(lambda x: x%2==0 ).with_input_types(int).with_output_types(int) # inline input and output typing\n",
        "    | beam.ParDo(IntToStr())\n",
        "    | beam.Map(lambda x: print(x)).with_input_types(str).with_output_types(None) # inline input and output typing\n",
        "  )"
      ],
      "metadata": {
        "colab": {
          "base_uri": "https://localhost:8080/"
        },
        "id": "tgLO3lHXRyZP",
        "outputId": "04084b7b-f68d-4524-f626-29a2a302b181"
      },
      "execution_count": 30,
      "outputs": [
        {
          "output_type": "stream",
          "name": "stdout",
          "text": [
            "2\n",
            "4\n"
          ]
        }
      ]
    },
    {
      "cell_type": "markdown",
      "source": [
        "# Data Encoding in Beam\n",
        "\n",
        "- **Coders** encode and decode the elements of a Pcollection\n",
        "- **CoderRegistry** maps the types to their default coders.\n",
        "- Coders do not necessarily have one to one relationships with types for ex. int type can be coded/endcoded by both VarIntCoder and FloatCoder\n",
        "\n",
        "|Python Type|Default Coder|\n",
        "|----|----|\n",
        "|int|VarIntCoder|\n",
        "|float|FloatCoder|\n",
        "|str|BytesCoder|\n",
        "|bytes|StrUtf8Coder|\n",
        "|tuple|TupleCoder|\n"
      ],
      "metadata": {
        "id": "ftNvNj4FAE3L"
      }
    },
    {
      "cell_type": "code",
      "source": [
        "from apache_beam import coders\n",
        "\n",
        "print(\"default int registry: \",coders.registry.get_coder(int))\n",
        "coders.registry.register_coder(int,coders.BigIntegerCoder)\n",
        "print(\"newly set int registry: \",coders.registry.get_coder(int))\n",
        "coders.registry.register_coder(int,coders.VarIntCoder)\n",
        "print(\"reverted to default int registry: \",coders.registry.get_coder(int))"
      ],
      "metadata": {
        "id": "VTgk8twNQ5Zl",
        "colab": {
          "base_uri": "https://localhost:8080/"
        },
        "outputId": "ede174d0-9b62-47f2-965d-486c840e439f"
      },
      "execution_count": 5,
      "outputs": [
        {
          "output_type": "stream",
          "name": "stdout",
          "text": [
            "default int registry:  BigIntegerCoder\n",
            "newly set int registry:  BigIntegerCoder\n",
            "reverted to default int registry:  VarIntCoder\n"
          ]
        }
      ]
    },
    {
      "cell_type": "markdown",
      "source": [
        "## Custom Coders for Custom DataTypes\n",
        "\n",
        "- For custom Data Types we need to define Custom Coders\n",
        "- For defining custom coders we need to subclass `apache_beam.coders.Coder` and override these methods\n",
        "\n",
        "- **`encode(self, value)`**: This method defines how to serialize your custom data type into a byte representation.\n",
        "- **`decode(self, encoded)`**: This method defines how to deserialize the byte representation back into your custom data type.\n",
        "- **`is_deterministic(self)`**: This method indicates whether the coder always produces the same encoded output for the same input value. It should return True if the coder is deterministic, otherwise False.\n",
        "  - A deterministic coder is usually required for group by operations as it relies on keys to group records and hence needs the keys to be consistent keys\n",
        "- **`estimate_size(self, value)`**: This method returns the estimated size of the encoded object which helps the runners optimize the pipelines\n",
        "- **`to_type_hint(self)`** (Optional): This method returns the type hint for the values that this coder encodes and decodes. This can help with type inference and checking within the pipeline.\n",
        "\n",
        "\n",
        "```python\n",
        "import apache_beam as beam\n",
        "from apache_beam.coders import Coder\n",
        "\n",
        "class StrUtf8Coder(Coder):\n",
        "    \"\"\"A coder for encoding and decoding strings as UTF-8.\"\"\"\n",
        "\n",
        "    def encode(self, value):\n",
        "        if not isinstance(value, str):\n",
        "            raise ValueError(\"StrUtf8Coder can only encode strings\")\n",
        "        return value.encode('utf-8')\n",
        "\n",
        "    def decode(self, encoded):\n",
        "        return encoded.decode('utf-8')\n",
        "\n",
        "    def is_deterministic(self):\n",
        "        return True\n",
        "\n",
        "    def estimate_size(self, value):\n",
        "        return len(self.encode(value))\n",
        "\n",
        "    def to_type_hint(self):\n",
        "        return str\n",
        "```"
      ],
      "metadata": {
        "id": "wnUiiKirCPAM"
      }
    },
    {
      "cell_type": "code",
      "source": [
        "from google.colab import files\n",
        "uploaded=files.upload()\n",
        "!{('head -n 2 dept_data.txt')}"
      ],
      "metadata": {
        "colab": {
          "base_uri": "https://localhost:8080/",
          "height": 109
        },
        "id": "OnXh5O1lu9Iv",
        "outputId": "dc4190f1-47c5-42ce-c373-e4a87a4825a2"
      },
      "execution_count": 38,
      "outputs": [
        {
          "output_type": "display_data",
          "data": {
            "text/plain": [
              "<IPython.core.display.HTML object>"
            ],
            "text/html": [
              "\n",
              "     <input type=\"file\" id=\"files-f6cdb103-112e-42e2-83fd-cf45e1abd09a\" name=\"files[]\" multiple disabled\n",
              "        style=\"border:none\" />\n",
              "     <output id=\"result-f6cdb103-112e-42e2-83fd-cf45e1abd09a\">\n",
              "      Upload widget is only available when the cell has been executed in the\n",
              "      current browser session. Please rerun this cell to enable.\n",
              "      </output>\n",
              "      <script>// Copyright 2017 Google LLC\n",
              "//\n",
              "// Licensed under the Apache License, Version 2.0 (the \"License\");\n",
              "// you may not use this file except in compliance with the License.\n",
              "// You may obtain a copy of the License at\n",
              "//\n",
              "//      http://www.apache.org/licenses/LICENSE-2.0\n",
              "//\n",
              "// Unless required by applicable law or agreed to in writing, software\n",
              "// distributed under the License is distributed on an \"AS IS\" BASIS,\n",
              "// WITHOUT WARRANTIES OR CONDITIONS OF ANY KIND, either express or implied.\n",
              "// See the License for the specific language governing permissions and\n",
              "// limitations under the License.\n",
              "\n",
              "/**\n",
              " * @fileoverview Helpers for google.colab Python module.\n",
              " */\n",
              "(function(scope) {\n",
              "function span(text, styleAttributes = {}) {\n",
              "  const element = document.createElement('span');\n",
              "  element.textContent = text;\n",
              "  for (const key of Object.keys(styleAttributes)) {\n",
              "    element.style[key] = styleAttributes[key];\n",
              "  }\n",
              "  return element;\n",
              "}\n",
              "\n",
              "// Max number of bytes which will be uploaded at a time.\n",
              "const MAX_PAYLOAD_SIZE = 100 * 1024;\n",
              "\n",
              "function _uploadFiles(inputId, outputId) {\n",
              "  const steps = uploadFilesStep(inputId, outputId);\n",
              "  const outputElement = document.getElementById(outputId);\n",
              "  // Cache steps on the outputElement to make it available for the next call\n",
              "  // to uploadFilesContinue from Python.\n",
              "  outputElement.steps = steps;\n",
              "\n",
              "  return _uploadFilesContinue(outputId);\n",
              "}\n",
              "\n",
              "// This is roughly an async generator (not supported in the browser yet),\n",
              "// where there are multiple asynchronous steps and the Python side is going\n",
              "// to poll for completion of each step.\n",
              "// This uses a Promise to block the python side on completion of each step,\n",
              "// then passes the result of the previous step as the input to the next step.\n",
              "function _uploadFilesContinue(outputId) {\n",
              "  const outputElement = document.getElementById(outputId);\n",
              "  const steps = outputElement.steps;\n",
              "\n",
              "  const next = steps.next(outputElement.lastPromiseValue);\n",
              "  return Promise.resolve(next.value.promise).then((value) => {\n",
              "    // Cache the last promise value to make it available to the next\n",
              "    // step of the generator.\n",
              "    outputElement.lastPromiseValue = value;\n",
              "    return next.value.response;\n",
              "  });\n",
              "}\n",
              "\n",
              "/**\n",
              " * Generator function which is called between each async step of the upload\n",
              " * process.\n",
              " * @param {string} inputId Element ID of the input file picker element.\n",
              " * @param {string} outputId Element ID of the output display.\n",
              " * @return {!Iterable<!Object>} Iterable of next steps.\n",
              " */\n",
              "function* uploadFilesStep(inputId, outputId) {\n",
              "  const inputElement = document.getElementById(inputId);\n",
              "  inputElement.disabled = false;\n",
              "\n",
              "  const outputElement = document.getElementById(outputId);\n",
              "  outputElement.innerHTML = '';\n",
              "\n",
              "  const pickedPromise = new Promise((resolve) => {\n",
              "    inputElement.addEventListener('change', (e) => {\n",
              "      resolve(e.target.files);\n",
              "    });\n",
              "  });\n",
              "\n",
              "  const cancel = document.createElement('button');\n",
              "  inputElement.parentElement.appendChild(cancel);\n",
              "  cancel.textContent = 'Cancel upload';\n",
              "  const cancelPromise = new Promise((resolve) => {\n",
              "    cancel.onclick = () => {\n",
              "      resolve(null);\n",
              "    };\n",
              "  });\n",
              "\n",
              "  // Wait for the user to pick the files.\n",
              "  const files = yield {\n",
              "    promise: Promise.race([pickedPromise, cancelPromise]),\n",
              "    response: {\n",
              "      action: 'starting',\n",
              "    }\n",
              "  };\n",
              "\n",
              "  cancel.remove();\n",
              "\n",
              "  // Disable the input element since further picks are not allowed.\n",
              "  inputElement.disabled = true;\n",
              "\n",
              "  if (!files) {\n",
              "    return {\n",
              "      response: {\n",
              "        action: 'complete',\n",
              "      }\n",
              "    };\n",
              "  }\n",
              "\n",
              "  for (const file of files) {\n",
              "    const li = document.createElement('li');\n",
              "    li.append(span(file.name, {fontWeight: 'bold'}));\n",
              "    li.append(span(\n",
              "        `(${file.type || 'n/a'}) - ${file.size} bytes, ` +\n",
              "        `last modified: ${\n",
              "            file.lastModifiedDate ? file.lastModifiedDate.toLocaleDateString() :\n",
              "                                    'n/a'} - `));\n",
              "    const percent = span('0% done');\n",
              "    li.appendChild(percent);\n",
              "\n",
              "    outputElement.appendChild(li);\n",
              "\n",
              "    const fileDataPromise = new Promise((resolve) => {\n",
              "      const reader = new FileReader();\n",
              "      reader.onload = (e) => {\n",
              "        resolve(e.target.result);\n",
              "      };\n",
              "      reader.readAsArrayBuffer(file);\n",
              "    });\n",
              "    // Wait for the data to be ready.\n",
              "    let fileData = yield {\n",
              "      promise: fileDataPromise,\n",
              "      response: {\n",
              "        action: 'continue',\n",
              "      }\n",
              "    };\n",
              "\n",
              "    // Use a chunked sending to avoid message size limits. See b/62115660.\n",
              "    let position = 0;\n",
              "    do {\n",
              "      const length = Math.min(fileData.byteLength - position, MAX_PAYLOAD_SIZE);\n",
              "      const chunk = new Uint8Array(fileData, position, length);\n",
              "      position += length;\n",
              "\n",
              "      const base64 = btoa(String.fromCharCode.apply(null, chunk));\n",
              "      yield {\n",
              "        response: {\n",
              "          action: 'append',\n",
              "          file: file.name,\n",
              "          data: base64,\n",
              "        },\n",
              "      };\n",
              "\n",
              "      let percentDone = fileData.byteLength === 0 ?\n",
              "          100 :\n",
              "          Math.round((position / fileData.byteLength) * 100);\n",
              "      percent.textContent = `${percentDone}% done`;\n",
              "\n",
              "    } while (position < fileData.byteLength);\n",
              "  }\n",
              "\n",
              "  // All done.\n",
              "  yield {\n",
              "    response: {\n",
              "      action: 'complete',\n",
              "    }\n",
              "  };\n",
              "}\n",
              "\n",
              "scope.google = scope.google || {};\n",
              "scope.google.colab = scope.google.colab || {};\n",
              "scope.google.colab._files = {\n",
              "  _uploadFiles,\n",
              "  _uploadFilesContinue,\n",
              "};\n",
              "})(self);\n",
              "</script> "
            ]
          },
          "metadata": {}
        },
        {
          "output_type": "stream",
          "name": "stdout",
          "text": [
            "Saving dept_data.txt to dept_data (1).txt\n",
            "149633CM,Marco,10,Accounts,1-01-2019\r\n",
            "212539MU,Rebekah,10,Accounts,1-01-2019\r\n"
          ]
        }
      ]
    },
    {
      "cell_type": "code",
      "source": [
        "import apache_beam as beam\n",
        "import typing\n",
        "\n",
        "class Employee():\n",
        "  def __init__(self,id,name):\n",
        "    self.id=id\n",
        "    self.name=name\n",
        "\n",
        "  def __repr__(self):\n",
        "    return f\"Employee(id={self.id},name={self.name})\"\n",
        "\n",
        "\n",
        "class EmployeeCoder(beam.coders.Coder):\n",
        "\n",
        "  def encode(self,employee):\n",
        "    return (f\"{employee.id}:{employee.name}\").encode(\"utf-8\")\n",
        "\n",
        "  def decode(self,s):\n",
        "    return Employee(*s.decode(\"utf-8\").split(\":\"))\n",
        "\n",
        "  def is_deterministic(self):\n",
        "    return True\n",
        "\n",
        "beam.coders.registry.register_coder(Employee,EmployeeCoder)\n",
        "\n",
        "with beam.Pipeline() as pipeline:\n",
        "  (\n",
        "    pipeline\n",
        "    | beam.io.ReadFromText('dept_data.txt')\n",
        "    | beam.Map(lambda row: (Employee(row.split(\",\")[0],row.split(\",\")[1]),int(row.split(\",\")[2])))\n",
        "    | beam.CombinePerKey(sum).with_input_types(typing.Tuple[Employee,int])\n",
        "    | beam.Map(lambda row: print(row))\n",
        "  )\n"
      ],
      "metadata": {
        "colab": {
          "base_uri": "https://localhost:8080/"
        },
        "id": "xBEFc2lZIXq4",
        "outputId": "21cd263c-7f4b-4303-851d-af0a30f832c8"
      },
      "execution_count": 44,
      "outputs": [
        {
          "output_type": "stream",
          "name": "stdout",
          "text": [
            "(Employee(id=149633CM,name=Marco), 310)\n",
            "(Employee(id=212539MU,name=Rebekah), 310)\n",
            "(Employee(id=231555ZZ,name=Itoe), 310)\n",
            "(Employee(id=503996WI,name=Edouard), 310)\n",
            "(Employee(id=704275DC,name=Kyle), 310)\n",
            "(Employee(id=957149WC,name=Kyle), 310)\n",
            "(Employee(id=241316NX,name=Kumiko), 310)\n",
            "(Employee(id=796656IE,name=Gaston), 310)\n",
            "(Employee(id=331593PS,name=Beryl), 620)\n",
            "(Employee(id=560447WH,name=Olga), 620)\n",
            "(Employee(id=222997TJ,name=Leslie), 620)\n",
            "(Employee(id=171752SY,name=Mindy), 620)\n",
            "(Employee(id=153636AS,name=Vicky), 620)\n",
            "(Employee(id=745411HT,name=Richard), 620)\n",
            "(Employee(id=298464HN,name=Kirk), 620)\n",
            "(Employee(id=783950BW,name=Kaori), 620)\n",
            "(Employee(id=892691AR,name=Beryl), 620)\n",
            "(Employee(id=245668UZ,name=Oscar), 620)\n",
            "(Employee(id=231206QD,name=Kumiko), 930)\n",
            "(Employee(id=357919KT,name=Wendy), 930)\n",
            "(Employee(id=472418ZG,name=Cristobal), 930)\n",
            "(Employee(id=442292OI,name=Erika), 930)\n",
            "(Employee(id=503647MN,name=Sebastien), 930)\n",
            "(Employee(id=245319LD,name=Valerie), 930)\n",
            "(Employee(id=818776XR,name=Dolly), 930)\n",
            "(Employee(id=259229ZU,name=Emily), 930)\n",
            "(Employee(id=349360YC,name=Kaori), 930)\n",
            "(Employee(id=951594MT,name=Hitomi), 930)\n",
            "(Employee(id=718737IX,name=Ayumi), 300)\n"
          ]
        }
      ]
    }
  ]
}